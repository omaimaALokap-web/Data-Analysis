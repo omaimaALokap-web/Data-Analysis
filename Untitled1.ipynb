{
  "cells": [
    {
      "cell_type": "markdown",
      "metadata": {
        "id": "view-in-github",
        "colab_type": "text"
      },
      "source": [
        "<a href=\"https://colab.research.google.com/github/omaimaALokap-web/Data-science/blob/main/Untitled1.ipynb\" target=\"_parent\"><img src=\"https://colab.research.google.com/assets/colab-badge.svg\" alt=\"Open In Colab\"/></a>"
      ]
    },
    {
      "cell_type": "code",
      "execution_count": null,
      "id": "c431b328-4cb0-4bc4-aa1c-3ca45f985226",
      "metadata": {
        "id": "c431b328-4cb0-4bc4-aa1c-3ca45f985226"
      },
      "outputs": [],
      "source": [
        "import pandas as pd\n",
        "import os"
      ]
    },
    {
      "cell_type": "code",
      "execution_count": null,
      "id": "249b1c38-1a84-4fa4-bdec-4c5357a918f9",
      "metadata": {
        "id": "249b1c38-1a84-4fa4-bdec-4c5357a918f9"
      },
      "outputs": [],
      "source": [
        "fil = [fi for fi in os.listdir('./Data')]\n",
        "len(fil)\n",
        "files = []\n",
        "for i in range(1,len(fil)):\n",
        "    files.append(fil[i])"
      ]
    },
    {
      "cell_type": "code",
      "execution_count": null,
      "id": "b70dac7c-5c5c-4ddf-8609-ed13f9bb6815",
      "metadata": {
        "tags": [],
        "id": "b70dac7c-5c5c-4ddf-8609-ed13f9bb6815"
      },
      "outputs": [],
      "source": [
        "all_models = pd.DataFrame()\n",
        "for file in files :\n",
        "    df = pd.read_csv('./Data/'+file)\n",
        "    all_models = pd.concat([all_models,df])\n",
        "all_models.to_csv('all_maodels.csv', index=False)"
      ]
    },
    {
      "cell_type": "code",
      "execution_count": null,
      "id": "891c6585-acb3-4368-ad82-c30d0d29795b",
      "metadata": {
        "id": "891c6585-acb3-4368-ad82-c30d0d29795b",
        "outputId": "ec889cf1-78fd-4f4f-cc3f-8a2752e7d17f"
      },
      "outputs": [
        {
          "data": {
            "text/html": [
              "<div>\n",
              "<style scoped>\n",
              "    .dataframe tbody tr th:only-of-type {\n",
              "        vertical-align: middle;\n",
              "    }\n",
              "\n",
              "    .dataframe tbody tr th {\n",
              "        vertical-align: top;\n",
              "    }\n",
              "\n",
              "    .dataframe thead th {\n",
              "        text-align: right;\n",
              "    }\n",
              "</style>\n",
              "<table border=\"1\" class=\"dataframe\">\n",
              "  <thead>\n",
              "    <tr style=\"text-align: right;\">\n",
              "      <th></th>\n",
              "      <th>Order ID</th>\n",
              "      <th>Product</th>\n",
              "      <th>Quantity Ordered</th>\n",
              "      <th>Price Each</th>\n",
              "      <th>Order Date</th>\n",
              "      <th>Purchase Address</th>\n",
              "    </tr>\n",
              "  </thead>\n",
              "  <tbody>\n",
              "    <tr>\n",
              "      <th>0</th>\n",
              "      <td>236670</td>\n",
              "      <td>Wired Headphones</td>\n",
              "      <td>2</td>\n",
              "      <td>11.99</td>\n",
              "      <td>08/31/19 22:21</td>\n",
              "      <td>359 Spruce St, Seattle, WA 98101</td>\n",
              "    </tr>\n",
              "    <tr>\n",
              "      <th>1</th>\n",
              "      <td>236671</td>\n",
              "      <td>Bose SoundSport Headphones</td>\n",
              "      <td>1</td>\n",
              "      <td>99.99</td>\n",
              "      <td>08/15/19 15:11</td>\n",
              "      <td>492 Ridge St, Dallas, TX 75001</td>\n",
              "    </tr>\n",
              "    <tr>\n",
              "      <th>2</th>\n",
              "      <td>236672</td>\n",
              "      <td>iPhone</td>\n",
              "      <td>1</td>\n",
              "      <td>700.0</td>\n",
              "      <td>08/06/19 14:40</td>\n",
              "      <td>149 7th St, Portland, OR 97035</td>\n",
              "    </tr>\n",
              "    <tr>\n",
              "      <th>3</th>\n",
              "      <td>236673</td>\n",
              "      <td>AA Batteries (4-pack)</td>\n",
              "      <td>2</td>\n",
              "      <td>3.84</td>\n",
              "      <td>08/29/19 20:59</td>\n",
              "      <td>631 2nd St, Los Angeles, CA 90001</td>\n",
              "    </tr>\n",
              "    <tr>\n",
              "      <th>4</th>\n",
              "      <td>236674</td>\n",
              "      <td>AA Batteries (4-pack)</td>\n",
              "      <td>2</td>\n",
              "      <td>3.84</td>\n",
              "      <td>08/15/19 19:53</td>\n",
              "      <td>736 14th St, New York City, NY 10001</td>\n",
              "    </tr>\n",
              "  </tbody>\n",
              "</table>\n",
              "</div>"
            ],
            "text/plain": [
              "  Order ID                     Product Quantity Ordered Price Each  \\\n",
              "0   236670            Wired Headphones                2      11.99   \n",
              "1   236671  Bose SoundSport Headphones                1      99.99   \n",
              "2   236672                      iPhone                1      700.0   \n",
              "3   236673       AA Batteries (4-pack)                2       3.84   \n",
              "4   236674       AA Batteries (4-pack)                2       3.84   \n",
              "\n",
              "       Order Date                      Purchase Address  \n",
              "0  08/31/19 22:21      359 Spruce St, Seattle, WA 98101  \n",
              "1  08/15/19 15:11        492 Ridge St, Dallas, TX 75001  \n",
              "2  08/06/19 14:40        149 7th St, Portland, OR 97035  \n",
              "3  08/29/19 20:59     631 2nd St, Los Angeles, CA 90001  \n",
              "4  08/15/19 19:53  736 14th St, New York City, NY 10001  "
            ]
          },
          "execution_count": 4,
          "metadata": {},
          "output_type": "execute_result"
        }
      ],
      "source": [
        "all_data = pd.read_csv('./all_maodels.csv')\n",
        "all_data.head()"
      ]
    },
    {
      "cell_type": "code",
      "execution_count": null,
      "id": "1eb3a075-0971-4118-a27e-6aee60a0e54c",
      "metadata": {
        "id": "1eb3a075-0971-4118-a27e-6aee60a0e54c",
        "outputId": "dd8eb998-2bfd-45cf-dbe8-29bdde1a1262"
      },
      "outputs": [
        {
          "data": {
            "text/plain": [
              "Order ID            object\n",
              "Product             object\n",
              "Quantity Ordered    object\n",
              "Price Each          object\n",
              "Order Date          object\n",
              "Purchase Address    object\n",
              "dtype: object"
            ]
          },
          "execution_count": 5,
          "metadata": {},
          "output_type": "execute_result"
        }
      ],
      "source": [
        "all_data.dtypes"
      ]
    },
    {
      "cell_type": "markdown",
      "id": "03435938-3e18-43c1-b84b-27a80605e8ad",
      "metadata": {
        "id": "03435938-3e18-43c1-b84b-27a80605e8ad"
      },
      "source": [
        "##### Drop nane Rows"
      ]
    },
    {
      "cell_type": "code",
      "execution_count": null,
      "id": "8a9fdd91-f760-4dfe-a09d-2c4294f0553c",
      "metadata": {
        "id": "8a9fdd91-f760-4dfe-a09d-2c4294f0553c"
      },
      "outputs": [],
      "source": [
        "all_data = all_data.dropna(how='all')"
      ]
    },
    {
      "cell_type": "code",
      "execution_count": null,
      "id": "6b5df592-613d-4533-aba6-0c659248d9fd",
      "metadata": {
        "id": "6b5df592-613d-4533-aba6-0c659248d9fd",
        "outputId": "fd3bd20a-d96f-4bc7-c71a-bf0c5fb6b644"
      },
      "outputs": [
        {
          "name": "stdout",
          "output_type": "stream",
          "text": [
            "The \"Date\" column is of type string.\n"
          ]
        }
      ],
      "source": [
        "if all_data['Order Date'].dtype == 'O':\n",
        "    print('The \"Date\" column is of type string.')\n",
        "elif all_data['Order Date'].dtype == '<M8[ns]':\n",
        "    print('The \"Date\" column is of type datetime.')"
      ]
    },
    {
      "cell_type": "markdown",
      "id": "772ac31e-3813-4176-a575-48d538da2199",
      "metadata": {
        "id": "772ac31e-3813-4176-a575-48d538da2199"
      },
      "source": [
        "### Agument Data with additional column"
      ]
    },
    {
      "cell_type": "markdown",
      "id": "45055636-e30f-4a60-8210-205b2ca533e2",
      "metadata": {
        "id": "45055636-e30f-4a60-8210-205b2ca533e2"
      },
      "source": [
        "### Task1 :Add month coulmns"
      ]
    },
    {
      "cell_type": "markdown",
      "id": "972ac3b5-8e07-4c13-86fc-1595fda999a3",
      "metadata": {
        "id": "972ac3b5-8e07-4c13-86fc-1595fda999a3"
      },
      "source": [
        "Task1: remove every thing  is not date"
      ]
    },
    {
      "cell_type": "code",
      "execution_count": null,
      "id": "b4bf207a-fc65-49dd-9e2e-ccdc2f82e4eb",
      "metadata": {
        "id": "b4bf207a-fc65-49dd-9e2e-ccdc2f82e4eb"
      },
      "outputs": [],
      "source": [
        "all_data = all_data[all_data['Order Date'].str[0:2] != 'Or']"
      ]
    },
    {
      "cell_type": "markdown",
      "id": "3c80f3e1-6da0-43f1-a6f1-b32aed3be2ad",
      "metadata": {
        "id": "3c80f3e1-6da0-43f1-a6f1-b32aed3be2ad"
      },
      "source": [
        "convert into date"
      ]
    },
    {
      "cell_type": "code",
      "execution_count": null,
      "id": "02fa0916-d3de-419a-82b6-3b964ac75592",
      "metadata": {
        "tags": [],
        "id": "02fa0916-d3de-419a-82b6-3b964ac75592"
      },
      "outputs": [],
      "source": [
        "all_data['Order Date'] = pd.to_datetime(all_data['Order Date'])"
      ]
    },
    {
      "cell_type": "code",
      "execution_count": null,
      "id": "b4a00c08-d5ad-4454-8b40-84652d11e271",
      "metadata": {
        "tags": [],
        "id": "b4a00c08-d5ad-4454-8b40-84652d11e271",
        "outputId": "e46b5547-6de0-428b-8bb4-959446eafe40"
      },
      "outputs": [
        {
          "data": {
            "text/html": [
              "<div>\n",
              "<style scoped>\n",
              "    .dataframe tbody tr th:only-of-type {\n",
              "        vertical-align: middle;\n",
              "    }\n",
              "\n",
              "    .dataframe tbody tr th {\n",
              "        vertical-align: top;\n",
              "    }\n",
              "\n",
              "    .dataframe thead th {\n",
              "        text-align: right;\n",
              "    }\n",
              "</style>\n",
              "<table border=\"1\" class=\"dataframe\">\n",
              "  <thead>\n",
              "    <tr style=\"text-align: right;\">\n",
              "      <th></th>\n",
              "      <th>Order ID</th>\n",
              "      <th>Product</th>\n",
              "      <th>Quantity Ordered</th>\n",
              "      <th>Price Each</th>\n",
              "      <th>Order Date</th>\n",
              "      <th>Purchase Address</th>\n",
              "      <th>Month</th>\n",
              "    </tr>\n",
              "  </thead>\n",
              "  <tbody>\n",
              "    <tr>\n",
              "      <th>0</th>\n",
              "      <td>236670</td>\n",
              "      <td>Wired Headphones</td>\n",
              "      <td>2</td>\n",
              "      <td>11.99</td>\n",
              "      <td>2019-08-31 22:21:00</td>\n",
              "      <td>359 Spruce St, Seattle, WA 98101</td>\n",
              "      <td>8</td>\n",
              "    </tr>\n",
              "    <tr>\n",
              "      <th>1</th>\n",
              "      <td>236671</td>\n",
              "      <td>Bose SoundSport Headphones</td>\n",
              "      <td>1</td>\n",
              "      <td>99.99</td>\n",
              "      <td>2019-08-15 15:11:00</td>\n",
              "      <td>492 Ridge St, Dallas, TX 75001</td>\n",
              "      <td>8</td>\n",
              "    </tr>\n",
              "    <tr>\n",
              "      <th>2</th>\n",
              "      <td>236672</td>\n",
              "      <td>iPhone</td>\n",
              "      <td>1</td>\n",
              "      <td>700.0</td>\n",
              "      <td>2019-08-06 14:40:00</td>\n",
              "      <td>149 7th St, Portland, OR 97035</td>\n",
              "      <td>8</td>\n",
              "    </tr>\n",
              "    <tr>\n",
              "      <th>3</th>\n",
              "      <td>236673</td>\n",
              "      <td>AA Batteries (4-pack)</td>\n",
              "      <td>2</td>\n",
              "      <td>3.84</td>\n",
              "      <td>2019-08-29 20:59:00</td>\n",
              "      <td>631 2nd St, Los Angeles, CA 90001</td>\n",
              "      <td>8</td>\n",
              "    </tr>\n",
              "    <tr>\n",
              "      <th>4</th>\n",
              "      <td>236674</td>\n",
              "      <td>AA Batteries (4-pack)</td>\n",
              "      <td>2</td>\n",
              "      <td>3.84</td>\n",
              "      <td>2019-08-15 19:53:00</td>\n",
              "      <td>736 14th St, New York City, NY 10001</td>\n",
              "      <td>8</td>\n",
              "    </tr>\n",
              "    <tr>\n",
              "      <th>...</th>\n",
              "      <td>...</td>\n",
              "      <td>...</td>\n",
              "      <td>...</td>\n",
              "      <td>...</td>\n",
              "      <td>...</td>\n",
              "      <td>...</td>\n",
              "      <td>...</td>\n",
              "    </tr>\n",
              "    <tr>\n",
              "      <th>168462</th>\n",
              "      <td>259353</td>\n",
              "      <td>AAA Batteries (4-pack)</td>\n",
              "      <td>3</td>\n",
              "      <td>2.99</td>\n",
              "      <td>2019-09-17 20:56:00</td>\n",
              "      <td>840 Highland St, Los Angeles, CA 90001</td>\n",
              "      <td>9</td>\n",
              "    </tr>\n",
              "    <tr>\n",
              "      <th>168463</th>\n",
              "      <td>259354</td>\n",
              "      <td>iPhone</td>\n",
              "      <td>1</td>\n",
              "      <td>700</td>\n",
              "      <td>2019-09-01 16:00:00</td>\n",
              "      <td>216 Dogwood St, San Francisco, CA 94016</td>\n",
              "      <td>9</td>\n",
              "    </tr>\n",
              "    <tr>\n",
              "      <th>168464</th>\n",
              "      <td>259355</td>\n",
              "      <td>iPhone</td>\n",
              "      <td>1</td>\n",
              "      <td>700</td>\n",
              "      <td>2019-09-23 07:39:00</td>\n",
              "      <td>220 12th St, San Francisco, CA 94016</td>\n",
              "      <td>9</td>\n",
              "    </tr>\n",
              "    <tr>\n",
              "      <th>168465</th>\n",
              "      <td>259356</td>\n",
              "      <td>34in Ultrawide Monitor</td>\n",
              "      <td>1</td>\n",
              "      <td>379.99</td>\n",
              "      <td>2019-09-19 17:30:00</td>\n",
              "      <td>511 Forest St, San Francisco, CA 94016</td>\n",
              "      <td>9</td>\n",
              "    </tr>\n",
              "    <tr>\n",
              "      <th>168466</th>\n",
              "      <td>259357</td>\n",
              "      <td>USB-C Charging Cable</td>\n",
              "      <td>1</td>\n",
              "      <td>11.95</td>\n",
              "      <td>2019-09-30 00:18:00</td>\n",
              "      <td>250 Meadow St, San Francisco, CA 94016</td>\n",
              "      <td>9</td>\n",
              "    </tr>\n",
              "  </tbody>\n",
              "</table>\n",
              "<p>167661 rows × 7 columns</p>\n",
              "</div>"
            ],
            "text/plain": [
              "       Order ID                     Product Quantity Ordered Price Each  \\\n",
              "0        236670            Wired Headphones                2      11.99   \n",
              "1        236671  Bose SoundSport Headphones                1      99.99   \n",
              "2        236672                      iPhone                1      700.0   \n",
              "3        236673       AA Batteries (4-pack)                2       3.84   \n",
              "4        236674       AA Batteries (4-pack)                2       3.84   \n",
              "...         ...                         ...              ...        ...   \n",
              "168462   259353      AAA Batteries (4-pack)                3       2.99   \n",
              "168463   259354                      iPhone                1        700   \n",
              "168464   259355                      iPhone                1        700   \n",
              "168465   259356      34in Ultrawide Monitor                1     379.99   \n",
              "168466   259357        USB-C Charging Cable                1      11.95   \n",
              "\n",
              "                Order Date                         Purchase Address  Month  \n",
              "0      2019-08-31 22:21:00         359 Spruce St, Seattle, WA 98101      8  \n",
              "1      2019-08-15 15:11:00           492 Ridge St, Dallas, TX 75001      8  \n",
              "2      2019-08-06 14:40:00           149 7th St, Portland, OR 97035      8  \n",
              "3      2019-08-29 20:59:00        631 2nd St, Los Angeles, CA 90001      8  \n",
              "4      2019-08-15 19:53:00     736 14th St, New York City, NY 10001      8  \n",
              "...                    ...                                      ...    ...  \n",
              "168462 2019-09-17 20:56:00   840 Highland St, Los Angeles, CA 90001      9  \n",
              "168463 2019-09-01 16:00:00  216 Dogwood St, San Francisco, CA 94016      9  \n",
              "168464 2019-09-23 07:39:00     220 12th St, San Francisco, CA 94016      9  \n",
              "168465 2019-09-19 17:30:00   511 Forest St, San Francisco, CA 94016      9  \n",
              "168466 2019-09-30 00:18:00   250 Meadow St, San Francisco, CA 94016      9  \n",
              "\n",
              "[167661 rows x 7 columns]"
            ]
          },
          "execution_count": 10,
          "metadata": {},
          "output_type": "execute_result"
        }
      ],
      "source": [
        "all_data['Month'] = all_data['Order Date'].dt.month\n",
        "##all_data['Month'] = all_data['Order Date'].str[0:2]\n",
        "all_data"
      ]
    },
    {
      "cell_type": "markdown",
      "id": "99e20c63-5633-4410-ba84-102bde5e5ed0",
      "metadata": {
        "id": "99e20c63-5633-4410-ba84-102bde5e5ed0"
      },
      "source": [
        "convert into int"
      ]
    },
    {
      "cell_type": "code",
      "execution_count": null,
      "id": "c0eda7aa-7df3-467c-b811-82b843caf2ce",
      "metadata": {
        "id": "c0eda7aa-7df3-467c-b811-82b843caf2ce",
        "outputId": "92610906-6b81-49bc-e94f-2dbb5bbc2a0d"
      },
      "outputs": [
        {
          "data": {
            "text/plain": [
              "dtype('int32')"
            ]
          },
          "execution_count": 11,
          "metadata": {},
          "output_type": "execute_result"
        }
      ],
      "source": [
        "all_data['Month'] = all_data['Month'].astype('int32')\n",
        "all_data['Month'].dtype"
      ]
    },
    {
      "cell_type": "markdown",
      "id": "31e74796-abaa-443f-87c7-6f0e1c92ae3d",
      "metadata": {
        "id": "31e74796-abaa-443f-87c7-6f0e1c92ae3d"
      },
      "source": []
    },
    {
      "cell_type": "markdown",
      "id": "4a087fe1-d381-4f6d-83cc-dc13a656cdd6",
      "metadata": {
        "id": "4a087fe1-d381-4f6d-83cc-dc13a656cdd6"
      },
      "source": [
        "### Task2 Add sales Columns"
      ]
    },
    {
      "cell_type": "markdown",
      "id": "364fd5af-a106-48b8-b0f0-9fa4d6a661a8",
      "metadata": {
        "id": "364fd5af-a106-48b8-b0f0-9fa4d6a661a8"
      },
      "source": [
        "convert quantity ordered and price each coulmns int numaric type"
      ]
    },
    {
      "cell_type": "code",
      "execution_count": null,
      "id": "d54f43f1-548a-42a9-b2b5-2b5b646e4195",
      "metadata": {
        "id": "d54f43f1-548a-42a9-b2b5-2b5b646e4195",
        "outputId": "bcdf7522-6228-4357-8270-d437870406f7"
      },
      "outputs": [
        {
          "data": {
            "text/html": [
              "<div>\n",
              "<style scoped>\n",
              "    .dataframe tbody tr th:only-of-type {\n",
              "        vertical-align: middle;\n",
              "    }\n",
              "\n",
              "    .dataframe tbody tr th {\n",
              "        vertical-align: top;\n",
              "    }\n",
              "\n",
              "    .dataframe thead th {\n",
              "        text-align: right;\n",
              "    }\n",
              "</style>\n",
              "<table border=\"1\" class=\"dataframe\">\n",
              "  <thead>\n",
              "    <tr style=\"text-align: right;\">\n",
              "      <th></th>\n",
              "      <th>Order ID</th>\n",
              "      <th>Product</th>\n",
              "      <th>Quantity Ordered</th>\n",
              "      <th>Price Each</th>\n",
              "      <th>Order Date</th>\n",
              "      <th>Purchase Address</th>\n",
              "      <th>Month</th>\n",
              "    </tr>\n",
              "  </thead>\n",
              "  <tbody>\n",
              "    <tr>\n",
              "      <th>0</th>\n",
              "      <td>236670</td>\n",
              "      <td>Wired Headphones</td>\n",
              "      <td>2</td>\n",
              "      <td>11.99</td>\n",
              "      <td>2019-08-31 22:21:00</td>\n",
              "      <td>359 Spruce St, Seattle, WA 98101</td>\n",
              "      <td>8</td>\n",
              "    </tr>\n",
              "    <tr>\n",
              "      <th>1</th>\n",
              "      <td>236671</td>\n",
              "      <td>Bose SoundSport Headphones</td>\n",
              "      <td>1</td>\n",
              "      <td>99.99</td>\n",
              "      <td>2019-08-15 15:11:00</td>\n",
              "      <td>492 Ridge St, Dallas, TX 75001</td>\n",
              "      <td>8</td>\n",
              "    </tr>\n",
              "    <tr>\n",
              "      <th>2</th>\n",
              "      <td>236672</td>\n",
              "      <td>iPhone</td>\n",
              "      <td>1</td>\n",
              "      <td>700.00</td>\n",
              "      <td>2019-08-06 14:40:00</td>\n",
              "      <td>149 7th St, Portland, OR 97035</td>\n",
              "      <td>8</td>\n",
              "    </tr>\n",
              "    <tr>\n",
              "      <th>3</th>\n",
              "      <td>236673</td>\n",
              "      <td>AA Batteries (4-pack)</td>\n",
              "      <td>2</td>\n",
              "      <td>3.84</td>\n",
              "      <td>2019-08-29 20:59:00</td>\n",
              "      <td>631 2nd St, Los Angeles, CA 90001</td>\n",
              "      <td>8</td>\n",
              "    </tr>\n",
              "    <tr>\n",
              "      <th>4</th>\n",
              "      <td>236674</td>\n",
              "      <td>AA Batteries (4-pack)</td>\n",
              "      <td>2</td>\n",
              "      <td>3.84</td>\n",
              "      <td>2019-08-15 19:53:00</td>\n",
              "      <td>736 14th St, New York City, NY 10001</td>\n",
              "      <td>8</td>\n",
              "    </tr>\n",
              "  </tbody>\n",
              "</table>\n",
              "</div>"
            ],
            "text/plain": [
              "  Order ID                     Product  Quantity Ordered  Price Each  \\\n",
              "0   236670            Wired Headphones                 2       11.99   \n",
              "1   236671  Bose SoundSport Headphones                 1       99.99   \n",
              "2   236672                      iPhone                 1      700.00   \n",
              "3   236673       AA Batteries (4-pack)                 2        3.84   \n",
              "4   236674       AA Batteries (4-pack)                 2        3.84   \n",
              "\n",
              "           Order Date                      Purchase Address  Month  \n",
              "0 2019-08-31 22:21:00      359 Spruce St, Seattle, WA 98101      8  \n",
              "1 2019-08-15 15:11:00        492 Ridge St, Dallas, TX 75001      8  \n",
              "2 2019-08-06 14:40:00        149 7th St, Portland, OR 97035      8  \n",
              "3 2019-08-29 20:59:00     631 2nd St, Los Angeles, CA 90001      8  \n",
              "4 2019-08-15 19:53:00  736 14th St, New York City, NY 10001      8  "
            ]
          },
          "execution_count": 12,
          "metadata": {},
          "output_type": "execute_result"
        }
      ],
      "source": [
        "all_data['Quantity Ordered'] = pd.to_numeric(all_data['Quantity Ordered'])\n",
        "all_data['Price Each'] = pd.to_numeric(all_data['Price Each'])\n",
        "all_data.head()"
      ]
    },
    {
      "cell_type": "markdown",
      "id": "06e9384c-a34a-47c7-b18b-5d01ecc39640",
      "metadata": {
        "id": "06e9384c-a34a-47c7-b18b-5d01ecc39640"
      },
      "source": [
        "Add sales columns"
      ]
    },
    {
      "cell_type": "code",
      "execution_count": null,
      "id": "84861c70-2f5b-473d-a1da-50c2861fffc1",
      "metadata": {
        "id": "84861c70-2f5b-473d-a1da-50c2861fffc1"
      },
      "outputs": [],
      "source": [
        "all_data['Sales'] = all_data['Quantity Ordered'] * all_data['Price Each']"
      ]
    },
    {
      "cell_type": "markdown",
      "id": "343799b9-ff14-4e20-9e93-34a3ff738d50",
      "metadata": {
        "id": "343799b9-ff14-4e20-9e93-34a3ff738d50"
      },
      "source": [
        "\n",
        "reorder Sales and month columns"
      ]
    },
    {
      "cell_type": "code",
      "execution_count": null,
      "id": "4228e1c2-a207-4f20-b9d8-a7ee4e8d70b0",
      "metadata": {
        "tags": [],
        "id": "4228e1c2-a207-4f20-b9d8-a7ee4e8d70b0",
        "outputId": "af159990-eeef-4345-9970-c9ecdfa427f7"
      },
      "outputs": [
        {
          "data": {
            "text/html": [
              "<div>\n",
              "<style scoped>\n",
              "    .dataframe tbody tr th:only-of-type {\n",
              "        vertical-align: middle;\n",
              "    }\n",
              "\n",
              "    .dataframe tbody tr th {\n",
              "        vertical-align: top;\n",
              "    }\n",
              "\n",
              "    .dataframe thead th {\n",
              "        text-align: right;\n",
              "    }\n",
              "</style>\n",
              "<table border=\"1\" class=\"dataframe\">\n",
              "  <thead>\n",
              "    <tr style=\"text-align: right;\">\n",
              "      <th></th>\n",
              "      <th>Order ID</th>\n",
              "      <th>Product</th>\n",
              "      <th>Quantity Ordered</th>\n",
              "      <th>Price Each</th>\n",
              "      <th>Sales</th>\n",
              "      <th>Order Date</th>\n",
              "      <th>Month</th>\n",
              "      <th>Purchase Address</th>\n",
              "    </tr>\n",
              "  </thead>\n",
              "  <tbody>\n",
              "    <tr>\n",
              "      <th>0</th>\n",
              "      <td>236670</td>\n",
              "      <td>Wired Headphones</td>\n",
              "      <td>2</td>\n",
              "      <td>11.99</td>\n",
              "      <td>23.98</td>\n",
              "      <td>2019-08-31 22:21:00</td>\n",
              "      <td>8</td>\n",
              "      <td>359 Spruce St, Seattle, WA 98101</td>\n",
              "    </tr>\n",
              "    <tr>\n",
              "      <th>1</th>\n",
              "      <td>236671</td>\n",
              "      <td>Bose SoundSport Headphones</td>\n",
              "      <td>1</td>\n",
              "      <td>99.99</td>\n",
              "      <td>99.99</td>\n",
              "      <td>2019-08-15 15:11:00</td>\n",
              "      <td>8</td>\n",
              "      <td>492 Ridge St, Dallas, TX 75001</td>\n",
              "    </tr>\n",
              "    <tr>\n",
              "      <th>2</th>\n",
              "      <td>236672</td>\n",
              "      <td>iPhone</td>\n",
              "      <td>1</td>\n",
              "      <td>700.00</td>\n",
              "      <td>700.00</td>\n",
              "      <td>2019-08-06 14:40:00</td>\n",
              "      <td>8</td>\n",
              "      <td>149 7th St, Portland, OR 97035</td>\n",
              "    </tr>\n",
              "    <tr>\n",
              "      <th>3</th>\n",
              "      <td>236673</td>\n",
              "      <td>AA Batteries (4-pack)</td>\n",
              "      <td>2</td>\n",
              "      <td>3.84</td>\n",
              "      <td>7.68</td>\n",
              "      <td>2019-08-29 20:59:00</td>\n",
              "      <td>8</td>\n",
              "      <td>631 2nd St, Los Angeles, CA 90001</td>\n",
              "    </tr>\n",
              "    <tr>\n",
              "      <th>4</th>\n",
              "      <td>236674</td>\n",
              "      <td>AA Batteries (4-pack)</td>\n",
              "      <td>2</td>\n",
              "      <td>3.84</td>\n",
              "      <td>7.68</td>\n",
              "      <td>2019-08-15 19:53:00</td>\n",
              "      <td>8</td>\n",
              "      <td>736 14th St, New York City, NY 10001</td>\n",
              "    </tr>\n",
              "    <tr>\n",
              "      <th>...</th>\n",
              "      <td>...</td>\n",
              "      <td>...</td>\n",
              "      <td>...</td>\n",
              "      <td>...</td>\n",
              "      <td>...</td>\n",
              "      <td>...</td>\n",
              "      <td>...</td>\n",
              "      <td>...</td>\n",
              "    </tr>\n",
              "    <tr>\n",
              "      <th>168462</th>\n",
              "      <td>259353</td>\n",
              "      <td>AAA Batteries (4-pack)</td>\n",
              "      <td>3</td>\n",
              "      <td>2.99</td>\n",
              "      <td>8.97</td>\n",
              "      <td>2019-09-17 20:56:00</td>\n",
              "      <td>9</td>\n",
              "      <td>840 Highland St, Los Angeles, CA 90001</td>\n",
              "    </tr>\n",
              "    <tr>\n",
              "      <th>168463</th>\n",
              "      <td>259354</td>\n",
              "      <td>iPhone</td>\n",
              "      <td>1</td>\n",
              "      <td>700.00</td>\n",
              "      <td>700.00</td>\n",
              "      <td>2019-09-01 16:00:00</td>\n",
              "      <td>9</td>\n",
              "      <td>216 Dogwood St, San Francisco, CA 94016</td>\n",
              "    </tr>\n",
              "    <tr>\n",
              "      <th>168464</th>\n",
              "      <td>259355</td>\n",
              "      <td>iPhone</td>\n",
              "      <td>1</td>\n",
              "      <td>700.00</td>\n",
              "      <td>700.00</td>\n",
              "      <td>2019-09-23 07:39:00</td>\n",
              "      <td>9</td>\n",
              "      <td>220 12th St, San Francisco, CA 94016</td>\n",
              "    </tr>\n",
              "    <tr>\n",
              "      <th>168465</th>\n",
              "      <td>259356</td>\n",
              "      <td>34in Ultrawide Monitor</td>\n",
              "      <td>1</td>\n",
              "      <td>379.99</td>\n",
              "      <td>379.99</td>\n",
              "      <td>2019-09-19 17:30:00</td>\n",
              "      <td>9</td>\n",
              "      <td>511 Forest St, San Francisco, CA 94016</td>\n",
              "    </tr>\n",
              "    <tr>\n",
              "      <th>168466</th>\n",
              "      <td>259357</td>\n",
              "      <td>USB-C Charging Cable</td>\n",
              "      <td>1</td>\n",
              "      <td>11.95</td>\n",
              "      <td>11.95</td>\n",
              "      <td>2019-09-30 00:18:00</td>\n",
              "      <td>9</td>\n",
              "      <td>250 Meadow St, San Francisco, CA 94016</td>\n",
              "    </tr>\n",
              "  </tbody>\n",
              "</table>\n",
              "<p>167661 rows × 8 columns</p>\n",
              "</div>"
            ],
            "text/plain": [
              "       Order ID                     Product  Quantity Ordered  Price Each  \\\n",
              "0        236670            Wired Headphones                 2       11.99   \n",
              "1        236671  Bose SoundSport Headphones                 1       99.99   \n",
              "2        236672                      iPhone                 1      700.00   \n",
              "3        236673       AA Batteries (4-pack)                 2        3.84   \n",
              "4        236674       AA Batteries (4-pack)                 2        3.84   \n",
              "...         ...                         ...               ...         ...   \n",
              "168462   259353      AAA Batteries (4-pack)                 3        2.99   \n",
              "168463   259354                      iPhone                 1      700.00   \n",
              "168464   259355                      iPhone                 1      700.00   \n",
              "168465   259356      34in Ultrawide Monitor                 1      379.99   \n",
              "168466   259357        USB-C Charging Cable                 1       11.95   \n",
              "\n",
              "         Sales          Order Date  Month  \\\n",
              "0        23.98 2019-08-31 22:21:00      8   \n",
              "1        99.99 2019-08-15 15:11:00      8   \n",
              "2       700.00 2019-08-06 14:40:00      8   \n",
              "3         7.68 2019-08-29 20:59:00      8   \n",
              "4         7.68 2019-08-15 19:53:00      8   \n",
              "...        ...                 ...    ...   \n",
              "168462    8.97 2019-09-17 20:56:00      9   \n",
              "168463  700.00 2019-09-01 16:00:00      9   \n",
              "168464  700.00 2019-09-23 07:39:00      9   \n",
              "168465  379.99 2019-09-19 17:30:00      9   \n",
              "168466   11.95 2019-09-30 00:18:00      9   \n",
              "\n",
              "                               Purchase Address  \n",
              "0              359 Spruce St, Seattle, WA 98101  \n",
              "1                492 Ridge St, Dallas, TX 75001  \n",
              "2                149 7th St, Portland, OR 97035  \n",
              "3             631 2nd St, Los Angeles, CA 90001  \n",
              "4          736 14th St, New York City, NY 10001  \n",
              "...                                         ...  \n",
              "168462   840 Highland St, Los Angeles, CA 90001  \n",
              "168463  216 Dogwood St, San Francisco, CA 94016  \n",
              "168464     220 12th St, San Francisco, CA 94016  \n",
              "168465   511 Forest St, San Francisco, CA 94016  \n",
              "168466   250 Meadow St, San Francisco, CA 94016  \n",
              "\n",
              "[167661 rows x 8 columns]"
            ]
          },
          "execution_count": 14,
          "metadata": {},
          "output_type": "execute_result"
        }
      ],
      "source": [
        "all_data = all_data.reindex(columns=['Order ID','Product','Quantity Ordered','Price Each','Sales','Order Date','Month','Purchase Address'])\n",
        "all_data"
      ]
    },
    {
      "cell_type": "markdown",
      "id": "1efb00d2-d84a-4f65-a80e-dba569d3e0a5",
      "metadata": {
        "id": "1efb00d2-d84a-4f65-a80e-dba569d3e0a5"
      },
      "source": [
        "add City column"
      ]
    },
    {
      "cell_type": "code",
      "execution_count": null,
      "id": "049fab8a-0ce2-47ff-949f-bbabf54dde4a",
      "metadata": {
        "tags": [],
        "id": "049fab8a-0ce2-47ff-949f-bbabf54dde4a"
      },
      "outputs": [],
      "source": [
        "def get_city(address):\n",
        "    return address.split(',')[1]\n",
        "\n",
        "def get_stata(address):\n",
        "    return address.split(',')[2].split(' ')[1]\n",
        "all_data['City'] = all_data['Purchase Address'].apply(lambda x : get_city(x) +' '+'('+ get_stata(x) +')')\n",
        "# all_data['City'] = all_data['Purchase Address'].apply(lambda x : f\"{get_city(x)} ({get_stata(x)})\")\n",
        "\n",
        "# all_data['City'] = all_data['Purchase Address'].apply(lambda x : x.split(',').[1]))\n",
        "all_data['Column'] = all_data['Purchase Address'].apply(lambda x : get_city(x))\n"
      ]
    },
    {
      "cell_type": "code",
      "execution_count": null,
      "id": "6a5c23cb-3559-469b-a1ea-4a5245281470",
      "metadata": {
        "tags": [],
        "id": "6a5c23cb-3559-469b-a1ea-4a5245281470",
        "outputId": "b04ab119-9492-481c-c2af-a72b1c400c0f"
      },
      "outputs": [
        {
          "data": {
            "text/html": [
              "<div>\n",
              "<style scoped>\n",
              "    .dataframe tbody tr th:only-of-type {\n",
              "        vertical-align: middle;\n",
              "    }\n",
              "\n",
              "    .dataframe tbody tr th {\n",
              "        vertical-align: top;\n",
              "    }\n",
              "\n",
              "    .dataframe thead th {\n",
              "        text-align: right;\n",
              "    }\n",
              "</style>\n",
              "<table border=\"1\" class=\"dataframe\">\n",
              "  <thead>\n",
              "    <tr style=\"text-align: right;\">\n",
              "      <th></th>\n",
              "      <th>Order ID</th>\n",
              "      <th>Product</th>\n",
              "      <th>Quantity Ordered</th>\n",
              "      <th>Price Each</th>\n",
              "      <th>Sales</th>\n",
              "      <th>Order Date</th>\n",
              "      <th>Month</th>\n",
              "      <th>Purchase Address</th>\n",
              "      <th>City</th>\n",
              "      <th>Column</th>\n",
              "    </tr>\n",
              "  </thead>\n",
              "  <tbody>\n",
              "    <tr>\n",
              "      <th>0</th>\n",
              "      <td>236670</td>\n",
              "      <td>Wired Headphones</td>\n",
              "      <td>2</td>\n",
              "      <td>11.99</td>\n",
              "      <td>23.98</td>\n",
              "      <td>2019-08-31 22:21:00</td>\n",
              "      <td>8</td>\n",
              "      <td>359 Spruce St, Seattle, WA 98101</td>\n",
              "      <td>Seattle (WA)</td>\n",
              "      <td>Seattle</td>\n",
              "    </tr>\n",
              "    <tr>\n",
              "      <th>1</th>\n",
              "      <td>236671</td>\n",
              "      <td>Bose SoundSport Headphones</td>\n",
              "      <td>1</td>\n",
              "      <td>99.99</td>\n",
              "      <td>99.99</td>\n",
              "      <td>2019-08-15 15:11:00</td>\n",
              "      <td>8</td>\n",
              "      <td>492 Ridge St, Dallas, TX 75001</td>\n",
              "      <td>Dallas (TX)</td>\n",
              "      <td>Dallas</td>\n",
              "    </tr>\n",
              "    <tr>\n",
              "      <th>2</th>\n",
              "      <td>236672</td>\n",
              "      <td>iPhone</td>\n",
              "      <td>1</td>\n",
              "      <td>700.00</td>\n",
              "      <td>700.00</td>\n",
              "      <td>2019-08-06 14:40:00</td>\n",
              "      <td>8</td>\n",
              "      <td>149 7th St, Portland, OR 97035</td>\n",
              "      <td>Portland (OR)</td>\n",
              "      <td>Portland</td>\n",
              "    </tr>\n",
              "    <tr>\n",
              "      <th>3</th>\n",
              "      <td>236673</td>\n",
              "      <td>AA Batteries (4-pack)</td>\n",
              "      <td>2</td>\n",
              "      <td>3.84</td>\n",
              "      <td>7.68</td>\n",
              "      <td>2019-08-29 20:59:00</td>\n",
              "      <td>8</td>\n",
              "      <td>631 2nd St, Los Angeles, CA 90001</td>\n",
              "      <td>Los Angeles (CA)</td>\n",
              "      <td>Los Angeles</td>\n",
              "    </tr>\n",
              "    <tr>\n",
              "      <th>4</th>\n",
              "      <td>236674</td>\n",
              "      <td>AA Batteries (4-pack)</td>\n",
              "      <td>2</td>\n",
              "      <td>3.84</td>\n",
              "      <td>7.68</td>\n",
              "      <td>2019-08-15 19:53:00</td>\n",
              "      <td>8</td>\n",
              "      <td>736 14th St, New York City, NY 10001</td>\n",
              "      <td>New York City (NY)</td>\n",
              "      <td>New York City</td>\n",
              "    </tr>\n",
              "    <tr>\n",
              "      <th>...</th>\n",
              "      <td>...</td>\n",
              "      <td>...</td>\n",
              "      <td>...</td>\n",
              "      <td>...</td>\n",
              "      <td>...</td>\n",
              "      <td>...</td>\n",
              "      <td>...</td>\n",
              "      <td>...</td>\n",
              "      <td>...</td>\n",
              "      <td>...</td>\n",
              "    </tr>\n",
              "    <tr>\n",
              "      <th>168462</th>\n",
              "      <td>259353</td>\n",
              "      <td>AAA Batteries (4-pack)</td>\n",
              "      <td>3</td>\n",
              "      <td>2.99</td>\n",
              "      <td>8.97</td>\n",
              "      <td>2019-09-17 20:56:00</td>\n",
              "      <td>9</td>\n",
              "      <td>840 Highland St, Los Angeles, CA 90001</td>\n",
              "      <td>Los Angeles (CA)</td>\n",
              "      <td>Los Angeles</td>\n",
              "    </tr>\n",
              "    <tr>\n",
              "      <th>168463</th>\n",
              "      <td>259354</td>\n",
              "      <td>iPhone</td>\n",
              "      <td>1</td>\n",
              "      <td>700.00</td>\n",
              "      <td>700.00</td>\n",
              "      <td>2019-09-01 16:00:00</td>\n",
              "      <td>9</td>\n",
              "      <td>216 Dogwood St, San Francisco, CA 94016</td>\n",
              "      <td>San Francisco (CA)</td>\n",
              "      <td>San Francisco</td>\n",
              "    </tr>\n",
              "    <tr>\n",
              "      <th>168464</th>\n",
              "      <td>259355</td>\n",
              "      <td>iPhone</td>\n",
              "      <td>1</td>\n",
              "      <td>700.00</td>\n",
              "      <td>700.00</td>\n",
              "      <td>2019-09-23 07:39:00</td>\n",
              "      <td>9</td>\n",
              "      <td>220 12th St, San Francisco, CA 94016</td>\n",
              "      <td>San Francisco (CA)</td>\n",
              "      <td>San Francisco</td>\n",
              "    </tr>\n",
              "    <tr>\n",
              "      <th>168465</th>\n",
              "      <td>259356</td>\n",
              "      <td>34in Ultrawide Monitor</td>\n",
              "      <td>1</td>\n",
              "      <td>379.99</td>\n",
              "      <td>379.99</td>\n",
              "      <td>2019-09-19 17:30:00</td>\n",
              "      <td>9</td>\n",
              "      <td>511 Forest St, San Francisco, CA 94016</td>\n",
              "      <td>San Francisco (CA)</td>\n",
              "      <td>San Francisco</td>\n",
              "    </tr>\n",
              "    <tr>\n",
              "      <th>168466</th>\n",
              "      <td>259357</td>\n",
              "      <td>USB-C Charging Cable</td>\n",
              "      <td>1</td>\n",
              "      <td>11.95</td>\n",
              "      <td>11.95</td>\n",
              "      <td>2019-09-30 00:18:00</td>\n",
              "      <td>9</td>\n",
              "      <td>250 Meadow St, San Francisco, CA 94016</td>\n",
              "      <td>San Francisco (CA)</td>\n",
              "      <td>San Francisco</td>\n",
              "    </tr>\n",
              "  </tbody>\n",
              "</table>\n",
              "<p>167661 rows × 10 columns</p>\n",
              "</div>"
            ],
            "text/plain": [
              "       Order ID                     Product  Quantity Ordered  Price Each  \\\n",
              "0        236670            Wired Headphones                 2       11.99   \n",
              "1        236671  Bose SoundSport Headphones                 1       99.99   \n",
              "2        236672                      iPhone                 1      700.00   \n",
              "3        236673       AA Batteries (4-pack)                 2        3.84   \n",
              "4        236674       AA Batteries (4-pack)                 2        3.84   \n",
              "...         ...                         ...               ...         ...   \n",
              "168462   259353      AAA Batteries (4-pack)                 3        2.99   \n",
              "168463   259354                      iPhone                 1      700.00   \n",
              "168464   259355                      iPhone                 1      700.00   \n",
              "168465   259356      34in Ultrawide Monitor                 1      379.99   \n",
              "168466   259357        USB-C Charging Cable                 1       11.95   \n",
              "\n",
              "         Sales          Order Date  Month  \\\n",
              "0        23.98 2019-08-31 22:21:00      8   \n",
              "1        99.99 2019-08-15 15:11:00      8   \n",
              "2       700.00 2019-08-06 14:40:00      8   \n",
              "3         7.68 2019-08-29 20:59:00      8   \n",
              "4         7.68 2019-08-15 19:53:00      8   \n",
              "...        ...                 ...    ...   \n",
              "168462    8.97 2019-09-17 20:56:00      9   \n",
              "168463  700.00 2019-09-01 16:00:00      9   \n",
              "168464  700.00 2019-09-23 07:39:00      9   \n",
              "168465  379.99 2019-09-19 17:30:00      9   \n",
              "168466   11.95 2019-09-30 00:18:00      9   \n",
              "\n",
              "                               Purchase Address                 City  \\\n",
              "0              359 Spruce St, Seattle, WA 98101         Seattle (WA)   \n",
              "1                492 Ridge St, Dallas, TX 75001          Dallas (TX)   \n",
              "2                149 7th St, Portland, OR 97035        Portland (OR)   \n",
              "3             631 2nd St, Los Angeles, CA 90001     Los Angeles (CA)   \n",
              "4          736 14th St, New York City, NY 10001   New York City (NY)   \n",
              "...                                         ...                  ...   \n",
              "168462   840 Highland St, Los Angeles, CA 90001     Los Angeles (CA)   \n",
              "168463  216 Dogwood St, San Francisco, CA 94016   San Francisco (CA)   \n",
              "168464     220 12th St, San Francisco, CA 94016   San Francisco (CA)   \n",
              "168465   511 Forest St, San Francisco, CA 94016   San Francisco (CA)   \n",
              "168466   250 Meadow St, San Francisco, CA 94016   San Francisco (CA)   \n",
              "\n",
              "                Column  \n",
              "0              Seattle  \n",
              "1               Dallas  \n",
              "2             Portland  \n",
              "3          Los Angeles  \n",
              "4        New York City  \n",
              "...                ...  \n",
              "168462     Los Angeles  \n",
              "168463   San Francisco  \n",
              "168464   San Francisco  \n",
              "168465   San Francisco  \n",
              "168466   San Francisco  \n",
              "\n",
              "[167661 rows x 10 columns]"
            ]
          },
          "execution_count": 16,
          "metadata": {},
          "output_type": "execute_result"
        }
      ],
      "source": [
        "all_data"
      ]
    },
    {
      "cell_type": "code",
      "execution_count": null,
      "id": "99136570-cbb8-4c9a-8ad1-40ac8e64ac6e",
      "metadata": {
        "tags": [],
        "id": "99136570-cbb8-4c9a-8ad1-40ac8e64ac6e"
      },
      "outputs": [],
      "source": [
        "all_data.drop('Column', axis=1, inplace=True)"
      ]
    },
    {
      "cell_type": "code",
      "execution_count": null,
      "id": "eb582286-ca85-47bb-8777-11a9a75c14e7",
      "metadata": {
        "tags": [],
        "id": "eb582286-ca85-47bb-8777-11a9a75c14e7",
        "outputId": "d7322732-51ea-4bf6-88b0-283d207fb612"
      },
      "outputs": [
        {
          "data": {
            "text/html": [
              "<div>\n",
              "<style scoped>\n",
              "    .dataframe tbody tr th:only-of-type {\n",
              "        vertical-align: middle;\n",
              "    }\n",
              "\n",
              "    .dataframe tbody tr th {\n",
              "        vertical-align: top;\n",
              "    }\n",
              "\n",
              "    .dataframe thead th {\n",
              "        text-align: right;\n",
              "    }\n",
              "</style>\n",
              "<table border=\"1\" class=\"dataframe\">\n",
              "  <thead>\n",
              "    <tr style=\"text-align: right;\">\n",
              "      <th></th>\n",
              "      <th>Order ID</th>\n",
              "      <th>Product</th>\n",
              "      <th>Quantity Ordered</th>\n",
              "      <th>Price Each</th>\n",
              "      <th>Sales</th>\n",
              "      <th>Order Date</th>\n",
              "      <th>Month</th>\n",
              "      <th>Purchase Address</th>\n",
              "      <th>City</th>\n",
              "    </tr>\n",
              "  </thead>\n",
              "  <tbody>\n",
              "    <tr>\n",
              "      <th>0</th>\n",
              "      <td>236670</td>\n",
              "      <td>Wired Headphones</td>\n",
              "      <td>2</td>\n",
              "      <td>11.99</td>\n",
              "      <td>23.98</td>\n",
              "      <td>2019-08-31 22:21:00</td>\n",
              "      <td>8</td>\n",
              "      <td>359 Spruce St, Seattle, WA 98101</td>\n",
              "      <td>Seattle (WA)</td>\n",
              "    </tr>\n",
              "    <tr>\n",
              "      <th>1</th>\n",
              "      <td>236671</td>\n",
              "      <td>Bose SoundSport Headphones</td>\n",
              "      <td>1</td>\n",
              "      <td>99.99</td>\n",
              "      <td>99.99</td>\n",
              "      <td>2019-08-15 15:11:00</td>\n",
              "      <td>8</td>\n",
              "      <td>492 Ridge St, Dallas, TX 75001</td>\n",
              "      <td>Dallas (TX)</td>\n",
              "    </tr>\n",
              "    <tr>\n",
              "      <th>2</th>\n",
              "      <td>236672</td>\n",
              "      <td>iPhone</td>\n",
              "      <td>1</td>\n",
              "      <td>700.00</td>\n",
              "      <td>700.00</td>\n",
              "      <td>2019-08-06 14:40:00</td>\n",
              "      <td>8</td>\n",
              "      <td>149 7th St, Portland, OR 97035</td>\n",
              "      <td>Portland (OR)</td>\n",
              "    </tr>\n",
              "    <tr>\n",
              "      <th>3</th>\n",
              "      <td>236673</td>\n",
              "      <td>AA Batteries (4-pack)</td>\n",
              "      <td>2</td>\n",
              "      <td>3.84</td>\n",
              "      <td>7.68</td>\n",
              "      <td>2019-08-29 20:59:00</td>\n",
              "      <td>8</td>\n",
              "      <td>631 2nd St, Los Angeles, CA 90001</td>\n",
              "      <td>Los Angeles (CA)</td>\n",
              "    </tr>\n",
              "    <tr>\n",
              "      <th>4</th>\n",
              "      <td>236674</td>\n",
              "      <td>AA Batteries (4-pack)</td>\n",
              "      <td>2</td>\n",
              "      <td>3.84</td>\n",
              "      <td>7.68</td>\n",
              "      <td>2019-08-15 19:53:00</td>\n",
              "      <td>8</td>\n",
              "      <td>736 14th St, New York City, NY 10001</td>\n",
              "      <td>New York City (NY)</td>\n",
              "    </tr>\n",
              "    <tr>\n",
              "      <th>...</th>\n",
              "      <td>...</td>\n",
              "      <td>...</td>\n",
              "      <td>...</td>\n",
              "      <td>...</td>\n",
              "      <td>...</td>\n",
              "      <td>...</td>\n",
              "      <td>...</td>\n",
              "      <td>...</td>\n",
              "      <td>...</td>\n",
              "    </tr>\n",
              "    <tr>\n",
              "      <th>168462</th>\n",
              "      <td>259353</td>\n",
              "      <td>AAA Batteries (4-pack)</td>\n",
              "      <td>3</td>\n",
              "      <td>2.99</td>\n",
              "      <td>8.97</td>\n",
              "      <td>2019-09-17 20:56:00</td>\n",
              "      <td>9</td>\n",
              "      <td>840 Highland St, Los Angeles, CA 90001</td>\n",
              "      <td>Los Angeles (CA)</td>\n",
              "    </tr>\n",
              "    <tr>\n",
              "      <th>168463</th>\n",
              "      <td>259354</td>\n",
              "      <td>iPhone</td>\n",
              "      <td>1</td>\n",
              "      <td>700.00</td>\n",
              "      <td>700.00</td>\n",
              "      <td>2019-09-01 16:00:00</td>\n",
              "      <td>9</td>\n",
              "      <td>216 Dogwood St, San Francisco, CA 94016</td>\n",
              "      <td>San Francisco (CA)</td>\n",
              "    </tr>\n",
              "    <tr>\n",
              "      <th>168464</th>\n",
              "      <td>259355</td>\n",
              "      <td>iPhone</td>\n",
              "      <td>1</td>\n",
              "      <td>700.00</td>\n",
              "      <td>700.00</td>\n",
              "      <td>2019-09-23 07:39:00</td>\n",
              "      <td>9</td>\n",
              "      <td>220 12th St, San Francisco, CA 94016</td>\n",
              "      <td>San Francisco (CA)</td>\n",
              "    </tr>\n",
              "    <tr>\n",
              "      <th>168465</th>\n",
              "      <td>259356</td>\n",
              "      <td>34in Ultrawide Monitor</td>\n",
              "      <td>1</td>\n",
              "      <td>379.99</td>\n",
              "      <td>379.99</td>\n",
              "      <td>2019-09-19 17:30:00</td>\n",
              "      <td>9</td>\n",
              "      <td>511 Forest St, San Francisco, CA 94016</td>\n",
              "      <td>San Francisco (CA)</td>\n",
              "    </tr>\n",
              "    <tr>\n",
              "      <th>168466</th>\n",
              "      <td>259357</td>\n",
              "      <td>USB-C Charging Cable</td>\n",
              "      <td>1</td>\n",
              "      <td>11.95</td>\n",
              "      <td>11.95</td>\n",
              "      <td>2019-09-30 00:18:00</td>\n",
              "      <td>9</td>\n",
              "      <td>250 Meadow St, San Francisco, CA 94016</td>\n",
              "      <td>San Francisco (CA)</td>\n",
              "    </tr>\n",
              "  </tbody>\n",
              "</table>\n",
              "<p>167661 rows × 9 columns</p>\n",
              "</div>"
            ],
            "text/plain": [
              "       Order ID                     Product  Quantity Ordered  Price Each  \\\n",
              "0        236670            Wired Headphones                 2       11.99   \n",
              "1        236671  Bose SoundSport Headphones                 1       99.99   \n",
              "2        236672                      iPhone                 1      700.00   \n",
              "3        236673       AA Batteries (4-pack)                 2        3.84   \n",
              "4        236674       AA Batteries (4-pack)                 2        3.84   \n",
              "...         ...                         ...               ...         ...   \n",
              "168462   259353      AAA Batteries (4-pack)                 3        2.99   \n",
              "168463   259354                      iPhone                 1      700.00   \n",
              "168464   259355                      iPhone                 1      700.00   \n",
              "168465   259356      34in Ultrawide Monitor                 1      379.99   \n",
              "168466   259357        USB-C Charging Cable                 1       11.95   \n",
              "\n",
              "         Sales          Order Date  Month  \\\n",
              "0        23.98 2019-08-31 22:21:00      8   \n",
              "1        99.99 2019-08-15 15:11:00      8   \n",
              "2       700.00 2019-08-06 14:40:00      8   \n",
              "3         7.68 2019-08-29 20:59:00      8   \n",
              "4         7.68 2019-08-15 19:53:00      8   \n",
              "...        ...                 ...    ...   \n",
              "168462    8.97 2019-09-17 20:56:00      9   \n",
              "168463  700.00 2019-09-01 16:00:00      9   \n",
              "168464  700.00 2019-09-23 07:39:00      9   \n",
              "168465  379.99 2019-09-19 17:30:00      9   \n",
              "168466   11.95 2019-09-30 00:18:00      9   \n",
              "\n",
              "                               Purchase Address                 City  \n",
              "0              359 Spruce St, Seattle, WA 98101         Seattle (WA)  \n",
              "1                492 Ridge St, Dallas, TX 75001          Dallas (TX)  \n",
              "2                149 7th St, Portland, OR 97035        Portland (OR)  \n",
              "3             631 2nd St, Los Angeles, CA 90001     Los Angeles (CA)  \n",
              "4          736 14th St, New York City, NY 10001   New York City (NY)  \n",
              "...                                         ...                  ...  \n",
              "168462   840 Highland St, Los Angeles, CA 90001     Los Angeles (CA)  \n",
              "168463  216 Dogwood St, San Francisco, CA 94016   San Francisco (CA)  \n",
              "168464     220 12th St, San Francisco, CA 94016   San Francisco (CA)  \n",
              "168465   511 Forest St, San Francisco, CA 94016   San Francisco (CA)  \n",
              "168466   250 Meadow St, San Francisco, CA 94016   San Francisco (CA)  \n",
              "\n",
              "[167661 rows x 9 columns]"
            ]
          },
          "execution_count": 18,
          "metadata": {},
          "output_type": "execute_result"
        }
      ],
      "source": [
        "all_data"
      ]
    },
    {
      "cell_type": "code",
      "execution_count": null,
      "id": "fd9a20cf-c2a0-422b-8937-d23928fe8c35",
      "metadata": {
        "id": "fd9a20cf-c2a0-422b-8937-d23928fe8c35",
        "outputId": "73cd4586-21f7-4c61-b733-3ca2fe0c6269"
      },
      "outputs": [
        {
          "data": {
            "text/html": [
              "<div>\n",
              "<style scoped>\n",
              "    .dataframe tbody tr th:only-of-type {\n",
              "        vertical-align: middle;\n",
              "    }\n",
              "\n",
              "    .dataframe tbody tr th {\n",
              "        vertical-align: top;\n",
              "    }\n",
              "\n",
              "    .dataframe thead th {\n",
              "        text-align: right;\n",
              "    }\n",
              "</style>\n",
              "<table border=\"1\" class=\"dataframe\">\n",
              "  <thead>\n",
              "    <tr style=\"text-align: right;\">\n",
              "      <th></th>\n",
              "      <th>Order ID</th>\n",
              "      <th>Product</th>\n",
              "      <th>Quantity Ordered</th>\n",
              "      <th>Price Each</th>\n",
              "      <th>Sales</th>\n",
              "      <th>Order Date</th>\n",
              "      <th>Month</th>\n",
              "      <th>Purchase Address</th>\n",
              "      <th>City</th>\n",
              "    </tr>\n",
              "  </thead>\n",
              "  <tbody>\n",
              "    <tr>\n",
              "      <th>0</th>\n",
              "      <td>236670</td>\n",
              "      <td>Wired Headphones</td>\n",
              "      <td>2</td>\n",
              "      <td>11.99</td>\n",
              "      <td>23.98</td>\n",
              "      <td>2019-08-31 22:21:00</td>\n",
              "      <td>8</td>\n",
              "      <td>359 Spruce St, Seattle, WA 98101</td>\n",
              "      <td>Seattle (WA)</td>\n",
              "    </tr>\n",
              "    <tr>\n",
              "      <th>1</th>\n",
              "      <td>236671</td>\n",
              "      <td>Bose SoundSport Headphones</td>\n",
              "      <td>1</td>\n",
              "      <td>99.99</td>\n",
              "      <td>99.99</td>\n",
              "      <td>2019-08-15 15:11:00</td>\n",
              "      <td>8</td>\n",
              "      <td>492 Ridge St, Dallas, TX 75001</td>\n",
              "      <td>Dallas (TX)</td>\n",
              "    </tr>\n",
              "    <tr>\n",
              "      <th>2</th>\n",
              "      <td>236672</td>\n",
              "      <td>iPhone</td>\n",
              "      <td>1</td>\n",
              "      <td>700.00</td>\n",
              "      <td>700.00</td>\n",
              "      <td>2019-08-06 14:40:00</td>\n",
              "      <td>8</td>\n",
              "      <td>149 7th St, Portland, OR 97035</td>\n",
              "      <td>Portland (OR)</td>\n",
              "    </tr>\n",
              "    <tr>\n",
              "      <th>3</th>\n",
              "      <td>236673</td>\n",
              "      <td>AA Batteries (4-pack)</td>\n",
              "      <td>2</td>\n",
              "      <td>3.84</td>\n",
              "      <td>7.68</td>\n",
              "      <td>2019-08-29 20:59:00</td>\n",
              "      <td>8</td>\n",
              "      <td>631 2nd St, Los Angeles, CA 90001</td>\n",
              "      <td>Los Angeles (CA)</td>\n",
              "    </tr>\n",
              "    <tr>\n",
              "      <th>4</th>\n",
              "      <td>236674</td>\n",
              "      <td>AA Batteries (4-pack)</td>\n",
              "      <td>2</td>\n",
              "      <td>3.84</td>\n",
              "      <td>7.68</td>\n",
              "      <td>2019-08-15 19:53:00</td>\n",
              "      <td>8</td>\n",
              "      <td>736 14th St, New York City, NY 10001</td>\n",
              "      <td>New York City (NY)</td>\n",
              "    </tr>\n",
              "    <tr>\n",
              "      <th>...</th>\n",
              "      <td>...</td>\n",
              "      <td>...</td>\n",
              "      <td>...</td>\n",
              "      <td>...</td>\n",
              "      <td>...</td>\n",
              "      <td>...</td>\n",
              "      <td>...</td>\n",
              "      <td>...</td>\n",
              "      <td>...</td>\n",
              "    </tr>\n",
              "    <tr>\n",
              "      <th>168462</th>\n",
              "      <td>259353</td>\n",
              "      <td>AAA Batteries (4-pack)</td>\n",
              "      <td>3</td>\n",
              "      <td>2.99</td>\n",
              "      <td>8.97</td>\n",
              "      <td>2019-09-17 20:56:00</td>\n",
              "      <td>9</td>\n",
              "      <td>840 Highland St, Los Angeles, CA 90001</td>\n",
              "      <td>Los Angeles (CA)</td>\n",
              "    </tr>\n",
              "    <tr>\n",
              "      <th>168463</th>\n",
              "      <td>259354</td>\n",
              "      <td>iPhone</td>\n",
              "      <td>1</td>\n",
              "      <td>700.00</td>\n",
              "      <td>700.00</td>\n",
              "      <td>2019-09-01 16:00:00</td>\n",
              "      <td>9</td>\n",
              "      <td>216 Dogwood St, San Francisco, CA 94016</td>\n",
              "      <td>San Francisco (CA)</td>\n",
              "    </tr>\n",
              "    <tr>\n",
              "      <th>168464</th>\n",
              "      <td>259355</td>\n",
              "      <td>iPhone</td>\n",
              "      <td>1</td>\n",
              "      <td>700.00</td>\n",
              "      <td>700.00</td>\n",
              "      <td>2019-09-23 07:39:00</td>\n",
              "      <td>9</td>\n",
              "      <td>220 12th St, San Francisco, CA 94016</td>\n",
              "      <td>San Francisco (CA)</td>\n",
              "    </tr>\n",
              "    <tr>\n",
              "      <th>168465</th>\n",
              "      <td>259356</td>\n",
              "      <td>34in Ultrawide Monitor</td>\n",
              "      <td>1</td>\n",
              "      <td>379.99</td>\n",
              "      <td>379.99</td>\n",
              "      <td>2019-09-19 17:30:00</td>\n",
              "      <td>9</td>\n",
              "      <td>511 Forest St, San Francisco, CA 94016</td>\n",
              "      <td>San Francisco (CA)</td>\n",
              "    </tr>\n",
              "    <tr>\n",
              "      <th>168466</th>\n",
              "      <td>259357</td>\n",
              "      <td>USB-C Charging Cable</td>\n",
              "      <td>1</td>\n",
              "      <td>11.95</td>\n",
              "      <td>11.95</td>\n",
              "      <td>2019-09-30 00:18:00</td>\n",
              "      <td>9</td>\n",
              "      <td>250 Meadow St, San Francisco, CA 94016</td>\n",
              "      <td>San Francisco (CA)</td>\n",
              "    </tr>\n",
              "  </tbody>\n",
              "</table>\n",
              "<p>167661 rows × 9 columns</p>\n",
              "</div>"
            ],
            "text/plain": [
              "       Order ID                     Product  Quantity Ordered  Price Each  \\\n",
              "0        236670            Wired Headphones                 2       11.99   \n",
              "1        236671  Bose SoundSport Headphones                 1       99.99   \n",
              "2        236672                      iPhone                 1      700.00   \n",
              "3        236673       AA Batteries (4-pack)                 2        3.84   \n",
              "4        236674       AA Batteries (4-pack)                 2        3.84   \n",
              "...         ...                         ...               ...         ...   \n",
              "168462   259353      AAA Batteries (4-pack)                 3        2.99   \n",
              "168463   259354                      iPhone                 1      700.00   \n",
              "168464   259355                      iPhone                 1      700.00   \n",
              "168465   259356      34in Ultrawide Monitor                 1      379.99   \n",
              "168466   259357        USB-C Charging Cable                 1       11.95   \n",
              "\n",
              "         Sales          Order Date  Month  \\\n",
              "0        23.98 2019-08-31 22:21:00      8   \n",
              "1        99.99 2019-08-15 15:11:00      8   \n",
              "2       700.00 2019-08-06 14:40:00      8   \n",
              "3         7.68 2019-08-29 20:59:00      8   \n",
              "4         7.68 2019-08-15 19:53:00      8   \n",
              "...        ...                 ...    ...   \n",
              "168462    8.97 2019-09-17 20:56:00      9   \n",
              "168463  700.00 2019-09-01 16:00:00      9   \n",
              "168464  700.00 2019-09-23 07:39:00      9   \n",
              "168465  379.99 2019-09-19 17:30:00      9   \n",
              "168466   11.95 2019-09-30 00:18:00      9   \n",
              "\n",
              "                               Purchase Address                 City  \n",
              "0              359 Spruce St, Seattle, WA 98101         Seattle (WA)  \n",
              "1                492 Ridge St, Dallas, TX 75001          Dallas (TX)  \n",
              "2                149 7th St, Portland, OR 97035        Portland (OR)  \n",
              "3             631 2nd St, Los Angeles, CA 90001     Los Angeles (CA)  \n",
              "4          736 14th St, New York City, NY 10001   New York City (NY)  \n",
              "...                                         ...                  ...  \n",
              "168462   840 Highland St, Los Angeles, CA 90001     Los Angeles (CA)  \n",
              "168463  216 Dogwood St, San Francisco, CA 94016   San Francisco (CA)  \n",
              "168464     220 12th St, San Francisco, CA 94016   San Francisco (CA)  \n",
              "168465   511 Forest St, San Francisco, CA 94016   San Francisco (CA)  \n",
              "168466   250 Meadow St, San Francisco, CA 94016   San Francisco (CA)  \n",
              "\n",
              "[167661 rows x 9 columns]"
            ]
          },
          "execution_count": 19,
          "metadata": {},
          "output_type": "execute_result"
        }
      ],
      "source": [
        "all_data"
      ]
    },
    {
      "cell_type": "markdown",
      "id": "046dd976-b5b6-4e67-b1d4-92a2601a1063",
      "metadata": {
        "id": "046dd976-b5b6-4e67-b1d4-92a2601a1063"
      },
      "source": [
        "### Question1: what is the best month for sale? How much is earned that month?  "
      ]
    },
    {
      "cell_type": "code",
      "execution_count": null,
      "id": "bff50aa1-a58c-45f6-a0da-420abeb99ae8",
      "metadata": {
        "tags": [],
        "id": "bff50aa1-a58c-45f6-a0da-420abeb99ae8",
        "outputId": "4d8d6118-bc1e-427e-fce2-2edb631de367"
      },
      "outputs": [
        {
          "data": {
            "text/html": [
              "<div>\n",
              "<style scoped>\n",
              "    .dataframe tbody tr th:only-of-type {\n",
              "        vertical-align: middle;\n",
              "    }\n",
              "\n",
              "    .dataframe tbody tr th {\n",
              "        vertical-align: top;\n",
              "    }\n",
              "\n",
              "    .dataframe thead th {\n",
              "        text-align: right;\n",
              "    }\n",
              "</style>\n",
              "<table border=\"1\" class=\"dataframe\">\n",
              "  <thead>\n",
              "    <tr style=\"text-align: right;\">\n",
              "      <th></th>\n",
              "      <th>Quantity Ordered</th>\n",
              "      <th>Price Each</th>\n",
              "      <th>Sales</th>\n",
              "    </tr>\n",
              "    <tr>\n",
              "      <th>Month</th>\n",
              "      <th></th>\n",
              "      <th></th>\n",
              "      <th></th>\n",
              "    </tr>\n",
              "  </thead>\n",
              "  <tbody>\n",
              "    <tr>\n",
              "      <th>1</th>\n",
              "      <td>10903</td>\n",
              "      <td>1.811768e+06</td>\n",
              "      <td>1.822257e+06</td>\n",
              "    </tr>\n",
              "    <tr>\n",
              "      <th>2</th>\n",
              "      <td>13449</td>\n",
              "      <td>2.188885e+06</td>\n",
              "      <td>2.202022e+06</td>\n",
              "    </tr>\n",
              "    <tr>\n",
              "      <th>3</th>\n",
              "      <td>17005</td>\n",
              "      <td>2.791208e+06</td>\n",
              "      <td>2.807100e+06</td>\n",
              "    </tr>\n",
              "    <tr>\n",
              "      <th>4</th>\n",
              "      <td>19</td>\n",
              "      <td>5.167430e+03</td>\n",
              "      <td>5.170420e+03</td>\n",
              "    </tr>\n",
              "    <tr>\n",
              "      <th>5</th>\n",
              "      <td>18638</td>\n",
              "      <td>3.124570e+06</td>\n",
              "      <td>3.142047e+06</td>\n",
              "    </tr>\n",
              "    <tr>\n",
              "      <th>6</th>\n",
              "      <td>15253</td>\n",
              "      <td>2.562026e+06</td>\n",
              "      <td>2.577802e+06</td>\n",
              "    </tr>\n",
              "    <tr>\n",
              "      <th>7</th>\n",
              "      <td>16072</td>\n",
              "      <td>2.632540e+06</td>\n",
              "      <td>2.647776e+06</td>\n",
              "    </tr>\n",
              "    <tr>\n",
              "      <th>8</th>\n",
              "      <td>13448</td>\n",
              "      <td>2.230345e+06</td>\n",
              "      <td>2.244468e+06</td>\n",
              "    </tr>\n",
              "    <tr>\n",
              "      <th>9</th>\n",
              "      <td>13109</td>\n",
              "      <td>2.084992e+06</td>\n",
              "      <td>2.097560e+06</td>\n",
              "    </tr>\n",
              "    <tr>\n",
              "      <th>10</th>\n",
              "      <td>22703</td>\n",
              "      <td>3.715555e+06</td>\n",
              "      <td>3.736727e+06</td>\n",
              "    </tr>\n",
              "    <tr>\n",
              "      <th>11</th>\n",
              "      <td>19798</td>\n",
              "      <td>3.180601e+06</td>\n",
              "      <td>3.199603e+06</td>\n",
              "    </tr>\n",
              "    <tr>\n",
              "      <th>12</th>\n",
              "      <td>28114</td>\n",
              "      <td>4.588415e+06</td>\n",
              "      <td>4.613443e+06</td>\n",
              "    </tr>\n",
              "  </tbody>\n",
              "</table>\n",
              "</div>"
            ],
            "text/plain": [
              "       Quantity Ordered    Price Each         Sales\n",
              "Month                                              \n",
              "1                 10903  1.811768e+06  1.822257e+06\n",
              "2                 13449  2.188885e+06  2.202022e+06\n",
              "3                 17005  2.791208e+06  2.807100e+06\n",
              "4                    19  5.167430e+03  5.170420e+03\n",
              "5                 18638  3.124570e+06  3.142047e+06\n",
              "6                 15253  2.562026e+06  2.577802e+06\n",
              "7                 16072  2.632540e+06  2.647776e+06\n",
              "8                 13448  2.230345e+06  2.244468e+06\n",
              "9                 13109  2.084992e+06  2.097560e+06\n",
              "10                22703  3.715555e+06  3.736727e+06\n",
              "11                19798  3.180601e+06  3.199603e+06\n",
              "12                28114  4.588415e+06  4.613443e+06"
            ]
          },
          "execution_count": 20,
          "metadata": {},
          "output_type": "execute_result"
        }
      ],
      "source": [
        "results = all_data.groupby('Month').sum()\n",
        "results"
      ]
    },
    {
      "cell_type": "code",
      "execution_count": null,
      "id": "f34251e8-d4a0-408b-ad2a-a6ef89113655",
      "metadata": {
        "id": "f34251e8-d4a0-408b-ad2a-a6ef89113655",
        "outputId": "0866ddfe-5ff0-4c0e-9c2f-fe2f6f405228"
      },
      "outputs": [
        {
          "data": {
            "image/png": "[encoded data removed]",
            "text/plain": [
              "<Figure size 432x288 with 1 Axes>"
            ]
          },
          "metadata": {
            "needs_background": "light"
          },
          "output_type": "display_data"
        }
      ],
      "source": [
        "import matplotlib.pyplot as plt\n",
        "import calendar\n",
        "months = range(1,13)\n",
        "month_names = [calendar.month_name[m] for m in months]\n",
        "plt.bar(month_names,results['Sales'])\n",
        "\n",
        "plt.xticks(month_names,rotation='vertical',size=8)\n",
        "\n",
        "plt.show()"
      ]
    },
    {
      "cell_type": "markdown",
      "id": "3844e931-3ee7-4bdd-afdf-15e393b601d7",
      "metadata": {
        "id": "3844e931-3ee7-4bdd-afdf-15e393b601d7"
      },
      "source": [
        "###"
      ]
    },
    {
      "cell_type": "markdown",
      "id": "806e2fab-18d4-4669-a618-eec813c47a81",
      "metadata": {
        "id": "806e2fab-18d4-4669-a618-eec813c47a81"
      },
      "source": [
        "### Qusetion 2: what the city had the highest number of sales"
      ]
    },
    {
      "cell_type": "code",
      "execution_count": null,
      "id": "a14a9491-fb90-4fad-a4c1-e7a1fe4b1713",
      "metadata": {
        "tags": [],
        "id": "a14a9491-fb90-4fad-a4c1-e7a1fe4b1713",
        "outputId": "424e5749-2069-4eeb-db00-c6fdae4157cf"
      },
      "outputs": [
        {
          "data": {
            "text/plain": [
              "City\n",
              " Atlanta (GA)          2.511044e+06\n",
              " Austin (TX)           1.646898e+06\n",
              " Boston (MA)           3.307762e+06\n",
              " Dallas (TX)           2.515135e+06\n",
              " Los Angeles (CA)      4.901172e+06\n",
              " New York City (NY)    4.217730e+06\n",
              " Portland (ME)         4.072218e+05\n",
              " Portland (OR)         1.672141e+06\n",
              " San Francisco (CA)    7.445129e+06\n",
              " Seattle (WA)          2.471745e+06\n",
              "Name: Sales, dtype: float64"
            ]
          },
          "execution_count": 22,
          "metadata": {},
          "output_type": "execute_result"
        }
      ],
      "source": [
        "Cities = all_data.groupby('City').sum()\n",
        "Cities['Sales']\n"
      ]
    },
    {
      "cell_type": "code",
      "execution_count": null,
      "id": "7e10ea53-5eeb-48dc-bf43-e52585454e23",
      "metadata": {
        "id": "7e10ea53-5eeb-48dc-bf43-e52585454e23",
        "outputId": "8dc7aab9-34b3-4b26-fb5e-0d88e7036d2b"
      },
      "outputs": [
        {
          "data": {
            "image/png": "[encoded data removed]",
            "text/plain": [
              "<Figure size 432x288 with 1 Axes>"
            ]
          },
          "metadata": {
            "needs_background": "light"
          },
          "output_type": "display_data"
        }
      ],
      "source": [
        "cities = [city for city,df in all_data.groupby('City')]\n",
        "plt.bar(cities,Cities['Sales'])\n",
        "plt.xticks(cities,rotation='vertical',size=8)\n",
        "plt.show()"
      ]
    },
    {
      "cell_type": "code",
      "execution_count": null,
      "id": "d68bb019-b2dc-4396-b0a2-90e52a2b5107",
      "metadata": {
        "id": "d68bb019-b2dc-4396-b0a2-90e52a2b5107",
        "outputId": "eb36e2d4-89ee-453d-d3ed-7cf0201d7b58"
      },
      "outputs": [
        {
          "data": {
            "text/plain": [
              "array([' Seattle (WA)', ' Dallas (TX)', ' Portland (OR)',\n",
              "       ' Los Angeles (CA)', ' New York City (NY)', ' San Francisco (CA)',\n",
              "       ' Boston (MA)', ' Atlanta (GA)', ' Austin (TX)', ' Portland (ME)'],\n",
              "      dtype=object)"
            ]
          },
          "execution_count": 24,
          "metadata": {},
          "output_type": "execute_result"
        }
      ],
      "source": [
        "all_data[\"City\"].unique()"
      ]
    },
    {
      "cell_type": "markdown",
      "id": "2fd2a3d3-aa4d-4480-ae8e-4c09851a711a",
      "metadata": {
        "id": "2fd2a3d3-aa4d-4480-ae8e-4c09851a711a"
      },
      "source": [
        "#### Question3: What time should we display advertisements to maximum likelihood of customer's buying product\n"
      ]
    },
    {
      "cell_type": "code",
      "execution_count": null,
      "id": "90654029-855d-4fb9-a142-62f06291ed4e",
      "metadata": {
        "tags": [],
        "id": "90654029-855d-4fb9-a142-62f06291ed4e",
        "outputId": "770adc41-e6f5-4271-f62c-bc62a583c5ad"
      },
      "outputs": [
        {
          "data": {
            "text/html": [
              "<div>\n",
              "<style scoped>\n",
              "    .dataframe tbody tr th:only-of-type {\n",
              "        vertical-align: middle;\n",
              "    }\n",
              "\n",
              "    .dataframe tbody tr th {\n",
              "        vertical-align: top;\n",
              "    }\n",
              "\n",
              "    .dataframe thead th {\n",
              "        text-align: right;\n",
              "    }\n",
              "</style>\n",
              "<table border=\"1\" class=\"dataframe\">\n",
              "  <thead>\n",
              "    <tr style=\"text-align: right;\">\n",
              "      <th></th>\n",
              "      <th>Order ID</th>\n",
              "      <th>Product</th>\n",
              "      <th>Quantity Ordered</th>\n",
              "      <th>Price Each</th>\n",
              "      <th>Sales</th>\n",
              "      <th>Order Date</th>\n",
              "      <th>Minute</th>\n",
              "      <th>Hour</th>\n",
              "      <th>Month</th>\n",
              "      <th>Purchase Address</th>\n",
              "      <th>City</th>\n",
              "    </tr>\n",
              "  </thead>\n",
              "  <tbody>\n",
              "    <tr>\n",
              "      <th>0</th>\n",
              "      <td>236670</td>\n",
              "      <td>Wired Headphones</td>\n",
              "      <td>2</td>\n",
              "      <td>11.99</td>\n",
              "      <td>23.98</td>\n",
              "      <td>2019-08-31 22:21:00</td>\n",
              "      <td>21</td>\n",
              "      <td>22</td>\n",
              "      <td>8</td>\n",
              "      <td>359 Spruce St, Seattle, WA 98101</td>\n",
              "      <td>Seattle (WA)</td>\n",
              "    </tr>\n",
              "    <tr>\n",
              "      <th>1</th>\n",
              "      <td>236671</td>\n",
              "      <td>Bose SoundSport Headphones</td>\n",
              "      <td>1</td>\n",
              "      <td>99.99</td>\n",
              "      <td>99.99</td>\n",
              "      <td>2019-08-15 15:11:00</td>\n",
              "      <td>11</td>\n",
              "      <td>15</td>\n",
              "      <td>8</td>\n",
              "      <td>492 Ridge St, Dallas, TX 75001</td>\n",
              "      <td>Dallas (TX)</td>\n",
              "    </tr>\n",
              "    <tr>\n",
              "      <th>2</th>\n",
              "      <td>236672</td>\n",
              "      <td>iPhone</td>\n",
              "      <td>1</td>\n",
              "      <td>700.00</td>\n",
              "      <td>700.00</td>\n",
              "      <td>2019-08-06 14:40:00</td>\n",
              "      <td>40</td>\n",
              "      <td>14</td>\n",
              "      <td>8</td>\n",
              "      <td>149 7th St, Portland, OR 97035</td>\n",
              "      <td>Portland (OR)</td>\n",
              "    </tr>\n",
              "    <tr>\n",
              "      <th>3</th>\n",
              "      <td>236673</td>\n",
              "      <td>AA Batteries (4-pack)</td>\n",
              "      <td>2</td>\n",
              "      <td>3.84</td>\n",
              "      <td>7.68</td>\n",
              "      <td>2019-08-29 20:59:00</td>\n",
              "      <td>59</td>\n",
              "      <td>20</td>\n",
              "      <td>8</td>\n",
              "      <td>631 2nd St, Los Angeles, CA 90001</td>\n",
              "      <td>Los Angeles (CA)</td>\n",
              "    </tr>\n",
              "    <tr>\n",
              "      <th>4</th>\n",
              "      <td>236674</td>\n",
              "      <td>AA Batteries (4-pack)</td>\n",
              "      <td>2</td>\n",
              "      <td>3.84</td>\n",
              "      <td>7.68</td>\n",
              "      <td>2019-08-15 19:53:00</td>\n",
              "      <td>53</td>\n",
              "      <td>19</td>\n",
              "      <td>8</td>\n",
              "      <td>736 14th St, New York City, NY 10001</td>\n",
              "      <td>New York City (NY)</td>\n",
              "    </tr>\n",
              "  </tbody>\n",
              "</table>\n",
              "</div>"
            ],
            "text/plain": [
              "  Order ID                     Product  Quantity Ordered  Price Each   Sales  \\\n",
              "0   236670            Wired Headphones                 2       11.99   23.98   \n",
              "1   236671  Bose SoundSport Headphones                 1       99.99   99.99   \n",
              "2   236672                      iPhone                 1      700.00  700.00   \n",
              "3   236673       AA Batteries (4-pack)                 2        3.84    7.68   \n",
              "4   236674       AA Batteries (4-pack)                 2        3.84    7.68   \n",
              "\n",
              "           Order Date  Minute  Hour  Month  \\\n",
              "0 2019-08-31 22:21:00      21    22      8   \n",
              "1 2019-08-15 15:11:00      11    15      8   \n",
              "2 2019-08-06 14:40:00      40    14      8   \n",
              "3 2019-08-29 20:59:00      59    20      8   \n",
              "4 2019-08-15 19:53:00      53    19      8   \n",
              "\n",
              "                       Purchase Address                 City  \n",
              "0      359 Spruce St, Seattle, WA 98101         Seattle (WA)  \n",
              "1        492 Ridge St, Dallas, TX 75001          Dallas (TX)  \n",
              "2        149 7th St, Portland, OR 97035        Portland (OR)  \n",
              "3     631 2nd St, Los Angeles, CA 90001     Los Angeles (CA)  \n",
              "4  736 14th St, New York City, NY 10001   New York City (NY)  "
            ]
          },
          "execution_count": 25,
          "metadata": {},
          "output_type": "execute_result"
        }
      ],
      "source": [
        "all_data['Hour'] = all_data['Order Date'].dt.hour\n",
        "all_data['Minute'] = all_data['Order Date'].dt.minute\n",
        "all_data = all_data.reindex(columns=['Order ID','Product','Quantity Ordered','Price Each','Sales','Order Date','Minute','Hour','Month','Purchase Address','City'])\n",
        "\n",
        "all_data.head()"
      ]
    },
    {
      "cell_type": "code",
      "execution_count": null,
      "id": "e5353071-54a1-4bb5-a1d4-a19b501b4d30",
      "metadata": {
        "id": "e5353071-54a1-4bb5-a1d4-a19b501b4d30",
        "outputId": "cb60845d-bd89-48be-a113-353374dab7cc"
      },
      "outputs": [
        {
          "data": {
            "image/png": "[encoded data removed]",
            "text/plain": [
              "<Figure size 432x288 with 1 Axes>"
            ]
          },
          "metadata": {
            "needs_background": "light"
          },
          "output_type": "display_data"
        }
      ],
      "source": [
        "x = [hour for hour,df in all_data.groupby('Hour')]\n",
        "y = all_data.groupby('Hour').count()\n",
        "plt.plot(x,y)\n",
        "plt.xticks(x)\n",
        "plt.xlabel('Hours')\n",
        "plt.ylabel('Number of Orderes')\n",
        "plt.grid()\n",
        "plt.show()"
      ]
    },
    {
      "cell_type": "markdown",
      "id": "2b9d0433-26aa-48a5-9bd5-9ddbaf452b82",
      "metadata": {
        "id": "2b9d0433-26aa-48a5-9bd5-9ddbaf452b82"
      },
      "source": [
        "### Qusetion4: what products are most often sold together"
      ]
    },
    {
      "cell_type": "code",
      "execution_count": null,
      "id": "d398e934-29e5-42ed-835b-ecac67deb5fa",
      "metadata": {
        "id": "d398e934-29e5-42ed-835b-ecac67deb5fa",
        "outputId": "82ac8f32-66bd-4aed-ae27-61990fe89a58"
      },
      "outputs": [
        {
          "data": {
            "text/plain": [
              "'MY Name is Omaima'"
            ]
          },
          "execution_count": 65,
          "metadata": {},
          "output_type": "execute_result"
        }
      ],
      "source": [
        "x = ['MY',\"Name\", \"is\" ,\"Omaima\"]\n",
        "y = \" \".join(x)\n",
        "y"
      ]
    },
    {
      "cell_type": "code",
      "execution_count": null,
      "id": "df61e986-bd7c-4b17-9b1b-9dd936d4622b",
      "metadata": {
        "tags": [],
        "id": "df61e986-bd7c-4b17-9b1b-9dd936d4622b",
        "outputId": "0e035c5d-ae04-4755-dc50-584da561299c"
      },
      "outputs": [
        {
          "name": "stderr",
          "output_type": "stream",
          "text": [
            "<ipython-input-63-adcd6fb99525>:2: SettingWithCopyWarning: \n",
            "A value is trying to be set on a copy of a slice from a DataFrame.\n",
            "Try using .loc[row_indexer,col_indexer] = value instead\n",
            "\n",
            "See the caveats in the documentation: https://pandas.pydata.org/pandas-docs/stable/user_guide/indexing.html#returning-a-view-versus-a-copy\n",
            "  df['Grouped'] = df.groupby('Order ID')['Product'].transform(lambda X: ' , '.join(X))\n"
          ]
        },
        {
          "data": {
            "text/html": [
              "<div>\n",
              "<style scoped>\n",
              "    .dataframe tbody tr th:only-of-type {\n",
              "        vertical-align: middle;\n",
              "    }\n",
              "\n",
              "    .dataframe tbody tr th {\n",
              "        vertical-align: top;\n",
              "    }\n",
              "\n",
              "    .dataframe thead th {\n",
              "        text-align: right;\n",
              "    }\n",
              "</style>\n",
              "<table border=\"1\" class=\"dataframe\">\n",
              "  <thead>\n",
              "    <tr style=\"text-align: right;\">\n",
              "      <th></th>\n",
              "      <th>Order ID</th>\n",
              "      <th>Grouped</th>\n",
              "    </tr>\n",
              "  </thead>\n",
              "  <tbody>\n",
              "    <tr>\n",
              "      <th>46</th>\n",
              "      <td>236716</td>\n",
              "      <td>AA Batteries (4-pack) , USB-C Charging Cable</td>\n",
              "    </tr>\n",
              "    <tr>\n",
              "      <th>60</th>\n",
              "      <td>236729</td>\n",
              "      <td>iPhone , Apple Airpods Headphones</td>\n",
              "    </tr>\n",
              "    <tr>\n",
              "      <th>62</th>\n",
              "      <td>236730</td>\n",
              "      <td>Google Phone , Wired Headphones</td>\n",
              "    </tr>\n",
              "    <tr>\n",
              "      <th>132</th>\n",
              "      <td>236799</td>\n",
              "      <td>Google Phone , Wired Headphones</td>\n",
              "    </tr>\n",
              "    <tr>\n",
              "      <th>163</th>\n",
              "      <td>236829</td>\n",
              "      <td>Vareebadd Phone , USB-C Charging Cable</td>\n",
              "    </tr>\n",
              "    <tr>\n",
              "      <th>...</th>\n",
              "      <td>...</td>\n",
              "      <td>...</td>\n",
              "    </tr>\n",
              "    <tr>\n",
              "      <th>168398</th>\n",
              "      <td>259296</td>\n",
              "      <td>Apple Airpods Headphones , Apple Airpods Headp...</td>\n",
              "    </tr>\n",
              "    <tr>\n",
              "      <th>168400</th>\n",
              "      <td>259297</td>\n",
              "      <td>iPhone , Lightning Charging Cable , Lightning ...</td>\n",
              "    </tr>\n",
              "    <tr>\n",
              "      <th>168408</th>\n",
              "      <td>259303</td>\n",
              "      <td>34in Ultrawide Monitor , AA Batteries (4-pack)</td>\n",
              "    </tr>\n",
              "    <tr>\n",
              "      <th>168420</th>\n",
              "      <td>259314</td>\n",
              "      <td>Wired Headphones , AAA Batteries (4-pack)</td>\n",
              "    </tr>\n",
              "    <tr>\n",
              "      <th>168458</th>\n",
              "      <td>259350</td>\n",
              "      <td>Google Phone , USB-C Charging Cable</td>\n",
              "    </tr>\n",
              "  </tbody>\n",
              "</table>\n",
              "<p>6419 rows × 2 columns</p>\n",
              "</div>"
            ],
            "text/plain": [
              "       Order ID                                            Grouped\n",
              "46       236716       AA Batteries (4-pack) , USB-C Charging Cable\n",
              "60       236729                  iPhone , Apple Airpods Headphones\n",
              "62       236730                    Google Phone , Wired Headphones\n",
              "132      236799                    Google Phone , Wired Headphones\n",
              "163      236829             Vareebadd Phone , USB-C Charging Cable\n",
              "...         ...                                                ...\n",
              "168398   259296  Apple Airpods Headphones , Apple Airpods Headp...\n",
              "168400   259297  iPhone , Lightning Charging Cable , Lightning ...\n",
              "168408   259303     34in Ultrawide Monitor , AA Batteries (4-pack)\n",
              "168420   259314          Wired Headphones , AAA Batteries (4-pack)\n",
              "168458   259350                Google Phone , USB-C Charging Cable\n",
              "\n",
              "[6419 rows x 2 columns]"
            ]
          },
          "execution_count": 63,
          "metadata": {},
          "output_type": "execute_result"
        }
      ],
      "source": [
        "df = all_data[all_data['Order ID'].duplicated(keep=False)]\n",
        "df['Grouped'] = df.groupby('Order ID')['Product'].transform(lambda X: ' , '.join(X))\n",
        "df = df[['Order ID','Grouped']].drop_duplicates()\n",
        "df"
      ]
    },
    {
      "cell_type": "code",
      "execution_count": null,
      "id": "ffaa423c-5207-489a-bb09-96c0d234a780",
      "metadata": {
        "id": "ffaa423c-5207-489a-bb09-96c0d234a780",
        "outputId": "468d3357-8544-46f5-eef0-5fa8806fb44c"
      },
      "outputs": [
        {
          "data": {
            "text/html": [
              "<div>\n",
              "<style scoped>\n",
              "    .dataframe tbody tr th:only-of-type {\n",
              "        vertical-align: middle;\n",
              "    }\n",
              "\n",
              "    .dataframe tbody tr th {\n",
              "        vertical-align: top;\n",
              "    }\n",
              "\n",
              "    .dataframe thead th {\n",
              "        text-align: right;\n",
              "    }\n",
              "</style>\n",
              "<table border=\"1\" class=\"dataframe\">\n",
              "  <thead>\n",
              "    <tr style=\"text-align: right;\">\n",
              "      <th></th>\n",
              "      <th>Grouped</th>\n",
              "      <th>Count</th>\n",
              "    </tr>\n",
              "  </thead>\n",
              "  <tbody>\n",
              "    <tr>\n",
              "      <th>0</th>\n",
              "      <td>20in Monitor , 20in Monitor</td>\n",
              "      <td>2</td>\n",
              "    </tr>\n",
              "    <tr>\n",
              "      <th>1</th>\n",
              "      <td>20in Monitor , 27in FHD Monitor</td>\n",
              "      <td>2</td>\n",
              "    </tr>\n",
              "    <tr>\n",
              "      <th>2</th>\n",
              "      <td>20in Monitor , 34in Ultrawide Monitor</td>\n",
              "      <td>1</td>\n",
              "    </tr>\n",
              "    <tr>\n",
              "      <th>3</th>\n",
              "      <td>20in Monitor , AA Batteries (4-pack)</td>\n",
              "      <td>6</td>\n",
              "    </tr>\n",
              "    <tr>\n",
              "      <th>4</th>\n",
              "      <td>20in Monitor , AAA Batteries (4-pack)</td>\n",
              "      <td>3</td>\n",
              "    </tr>\n",
              "    <tr>\n",
              "      <th>...</th>\n",
              "      <td>...</td>\n",
              "      <td>...</td>\n",
              "    </tr>\n",
              "    <tr>\n",
              "      <th>353</th>\n",
              "      <td>iPhone , USB-C Charging Cable</td>\n",
              "      <td>10</td>\n",
              "    </tr>\n",
              "    <tr>\n",
              "      <th>354</th>\n",
              "      <td>iPhone , Vareebadd Phone</td>\n",
              "      <td>1</td>\n",
              "    </tr>\n",
              "    <tr>\n",
              "      <th>355</th>\n",
              "      <td>iPhone , Wired Headphones</td>\n",
              "      <td>323</td>\n",
              "    </tr>\n",
              "    <tr>\n",
              "      <th>356</th>\n",
              "      <td>iPhone , Wired Headphones , Lightning Charging...</td>\n",
              "      <td>1</td>\n",
              "    </tr>\n",
              "    <tr>\n",
              "      <th>357</th>\n",
              "      <td>iPhone , iPhone</td>\n",
              "      <td>1</td>\n",
              "    </tr>\n",
              "  </tbody>\n",
              "</table>\n",
              "<p>358 rows × 2 columns</p>\n",
              "</div>"
            ],
            "text/plain": [
              "                                               Grouped  Count\n",
              "0                          20in Monitor , 20in Monitor      2\n",
              "1                      20in Monitor , 27in FHD Monitor      2\n",
              "2                20in Monitor , 34in Ultrawide Monitor      1\n",
              "3                 20in Monitor , AA Batteries (4-pack)      6\n",
              "4                20in Monitor , AAA Batteries (4-pack)      3\n",
              "..                                                 ...    ...\n",
              "353                      iPhone , USB-C Charging Cable     10\n",
              "354                           iPhone , Vareebadd Phone      1\n",
              "355                          iPhone , Wired Headphones    323\n",
              "356  iPhone , Wired Headphones , Lightning Charging...      1\n",
              "357                                    iPhone , iPhone      1\n",
              "\n",
              "[358 rows x 2 columns]"
            ]
          },
          "execution_count": 90,
          "metadata": {},
          "output_type": "execute_result"
        }
      ],
      "source": [
        "df['Count']=1\n",
        "df\n",
        "x = df.groupby('Grouped',as_index=False)['Count'].sum()\n",
        "x"
      ]
    },
    {
      "cell_type": "markdown",
      "id": "3faba860-5aa7-43ee-8b70-f0e4a0b5729e",
      "metadata": {
        "id": "3faba860-5aa7-43ee-8b70-f0e4a0b5729e"
      },
      "source": [
        "### how get on the 10 maximun numbers"
      ]
    },
    {
      "cell_type": "code",
      "execution_count": null,
      "id": "e07334a4-371c-4645-b646-a5e07004922b",
      "metadata": {
        "id": "e07334a4-371c-4645-b646-a5e07004922b",
        "outputId": "7922f747-ce82-4c01-8f9c-bd3283d0344a"
      },
      "outputs": [
        {
          "data": {
            "text/plain": [
              "Grouped    Vareebadd Phone , USB-C Charging Cable\n",
              "Count                                         278\n",
              "Name: 292, dtype: object"
            ]
          },
          "execution_count": 111,
          "metadata": {},
          "output_type": "execute_result"
        }
      ],
      "source": [
        "x['Count'].nlargest(10).to_frame()\n",
        "x.iloc[292]"
      ]
    },
    {
      "cell_type": "code",
      "execution_count": null,
      "id": "3d1bbb98-ace8-4603-85b6-a798cd1d25cd",
      "metadata": {
        "id": "3d1bbb98-ace8-4603-85b6-a798cd1d25cd",
        "outputId": "943c2449-7df0-460e-cbc2-a25f8eddd528"
      },
      "outputs": [
        {
          "data": {
            "text/plain": [
              "iPhone , Lightning Charging Cable      788\n",
              "Google Phone , USB-C Charging Cable    765\n",
              "iPhone , Wired Headphones              323\n",
              "Name: Grouped, dtype: int64"
            ]
          },
          "execution_count": 125,
          "metadata": {},
          "output_type": "execute_result"
        }
      ],
      "source": [
        "most_common_col1 = df['Grouped'].value_counts().nlargest(3)\n",
        "most_common_col1"
      ]
    },
    {
      "cell_type": "code",
      "execution_count": null,
      "id": "2eab908b-38bd-47c4-bc22-219dc9be88f8",
      "metadata": {
        "id": "2eab908b-38bd-47c4-bc22-219dc9be88f8",
        "outputId": "1dfced06-971b-4fcc-9d2b-4abc21d4f8d8"
      },
      "outputs": [
        {
          "data": {
            "text/plain": [
              "iPhone , Lightning Charging Cable                                              788\n",
              "Google Phone , USB-C Charging Cable                                            765\n",
              "iPhone , Wired Headphones                                                      323\n",
              "Vareebadd Phone , USB-C Charging Cable                                         278\n",
              "Google Phone , Wired Headphones                                                275\n",
              "                                                                              ... \n",
              "Google Phone , 27in 4K Gaming Monitor                                            1\n",
              "LG Dryer , 27in FHD Monitor                                                      1\n",
              "iPhone , Lightning Charging Cable , Wired Headphones , USB-C Charging Cable      1\n",
              "Lightning Charging Cable , LG Dryer                                              1\n",
              "Google Phone , USB-C Charging Cable , Wired Headphones , 27in FHD Monitor        1\n",
              "Name: Grouped, Length: 358, dtype: int64"
            ]
          },
          "execution_count": 116,
          "metadata": {},
          "output_type": "execute_result"
        }
      ],
      "source": [
        "most_common_col1 = df['Grouped'].value_counts()\n",
        "most_common_col1"
      ]
    },
    {
      "cell_type": "code",
      "execution_count": null,
      "id": "c2bde217-596d-4fb2-bb4c-9931160130f4",
      "metadata": {
        "id": "c2bde217-596d-4fb2-bb4c-9931160130f4",
        "outputId": "ee523612-c268-4af2-ed11-9ff1e8d08646"
      },
      "outputs": [
        {
          "name": "stdout",
          "output_type": "stream",
          "text": [
            "('iPhone ', ' Lightning Charging Cable') 791\n",
            "('Google Phone ', ' USB-C Charging Cable') 767\n",
            "('iPhone ', ' Wired Headphones') 400\n",
            "('Google Phone ', ' Wired Headphones') 365\n",
            "('iPhone ', ' Apple Airpods Headphones') 295\n",
            "('Vareebadd Phone ', ' USB-C Charging Cable') 278\n",
            "('Google Phone ', ' Bose SoundSport Headphones') 172\n",
            "('Vareebadd Phone ', ' Wired Headphones') 125\n",
            "('Google Phone ', ' USB-C Charging Cable ') 114\n",
            "('iPhone ', ' Lightning Charging Cable ') 108\n"
          ]
        }
      ],
      "source": [
        "\n",
        "from itertools import combinations\n",
        "from collections import Counter\n",
        "\n",
        "count = Counter()\n",
        "\n",
        "for row in df[\"Grouped\"]:\n",
        "    row_list = row.split(',')\n",
        "    count.update(Counter(combinations( row_list,2)))\n",
        "count\n",
        "for key, value in count.most_common(10):\n",
        "    print(key,value)\n"
      ]
    },
    {
      "cell_type": "markdown",
      "id": "403d458c-0b70-4b4d-9dcb-6cf14b5fe0ef",
      "metadata": {
        "id": "403d458c-0b70-4b4d-9dcb-6cf14b5fe0ef"
      },
      "source": [
        "#### Question4 :what product is most sold?"
      ]
    },
    {
      "cell_type": "code",
      "execution_count": null,
      "id": "59c8f437-7a29-4c25-a166-d4860d055b42",
      "metadata": {
        "id": "59c8f437-7a29-4c25-a166-d4860d055b42",
        "outputId": "1ea46777-d603-411e-eda9-bd8569487356"
      },
      "outputs": [
        {
          "data": {
            "image/png": "[encoded data removed]",
            "text/plain": [
              "<Figure size 432x288 with 1 Axes>"
            ]
          },
          "metadata": {
            "needs_background": "light"
          },
          "output_type": "display_data"
        }
      ],
      "source": [
        "sold_prd = all_data.groupby('Product').sum()\n",
        "product = [product for product,df in  all_data.groupby('Product')]\n",
        "plt.bar(product,sold_prd['Sales'])\n",
        "plt.xticks(product,rotation='vertical',size=8)\n",
        "plt.xlabel('Product')\n",
        "plt.ylabel('Number of product sales')\n",
        "plt.show()"
      ]
    },
    {
      "cell_type": "markdown",
      "id": "6e7ab1b6-fb14-4979-9797-06ea087c2b48",
      "metadata": {
        "id": "6e7ab1b6-fb14-4979-9797-06ea087c2b48"
      },
      "source": [
        "#### Question4 :what product is most sold?"
      ]
    },
    {
      "cell_type": "code",
      "execution_count": null,
      "id": "5713c1c2-4e97-4e28-888e-4537fe459f4f",
      "metadata": {
        "id": "5713c1c2-4e97-4e28-888e-4537fe459f4f",
        "outputId": "02396ddd-f061-4090-966b-6fcbd37b515e"
      },
      "outputs": [
        {
          "name": "stderr",
          "output_type": "stream",
          "text": [
            "<ipython-input-132-2a34d9062d51>:8: UserWarning: FixedFormatter should only be used together with FixedLocator\n",
            "  ax1.set_xticklabels(products,rotation='vertical',size=8)\n"
          ]
        },
        {
          "data": {
            "text/plain": [
              "Text(0, 0.5, 'Number of product sales')"
            ]
          },
          "execution_count": 132,
          "metadata": {},
          "output_type": "execute_result"
        },
        {
          "data": {
            "image/png": "[encoded data removed]",
            "text/plain": [
              "<Figure size 432x288 with 2 Axes>"
            ]
          },
          "metadata": {
            "needs_background": "light"
          },
          "output_type": "display_data"
        }
      ],
      "source": [
        "sold_prd = all_data.groupby('Product')\n",
        "quantity_ordered = sold_prd.sum()['Quantity Ordered']\n",
        "products = [product for product,df in  all_data.groupby('Product')]\n",
        "fig,ax1 = plt.subplots()\n",
        "ax2 = ax1.twinx()\n",
        "\n",
        "ax1.bar(products,quantity_ordered)\n",
        "ax1.set_xticklabels(products,rotation='vertical',size=8)\n",
        "ax1.set_xlabel('Product')\n",
        "ax1.set_ylabel('Number of Product\\'s Guantity')\n",
        "\n",
        "ax2.plot(products,sold_prd.sum()['Sales'],color='red')\n",
        "ax2.set_ylabel('Number of product sales')"
      ]
    },
    {
      "cell_type": "code",
      "execution_count": null,
      "id": "8f500e01-e24a-48b9-af96-dbb834206a71",
      "metadata": {
        "id": "8f500e01-e24a-48b9-af96-dbb834206a71",
        "outputId": "4342f5eb-170a-462e-9f13-42a65cabadb2"
      },
      "outputs": [
        {
          "name": "stderr",
          "output_type": "stream",
          "text": [
            "<ipython-input-133-d5b711207f4b>:8: UserWarning: FixedFormatter should only be used together with FixedLocator\n",
            "  ax1.set_xticklabels(products,rotation='vertical',size=8)\n"
          ]
        },
        {
          "data": {
            "text/plain": [
              "Text(0, 0.5, 'Number of product sales')"
            ]
          },
          "execution_count": 133,
          "metadata": {},
          "output_type": "execute_result"
        },
        {
          "data": {
            "image/png": "[encoded data removed]",
            "text/plain": [
              "<Figure size 432x288 with 2 Axes>"
            ]
          },
          "metadata": {
            "needs_background": "light"
          },
          "output_type": "display_data"
        }
      ],
      "source": [
        "sold_prd = all_data.groupby('Product')\n",
        "quantity_ordered = sold_prd.sum()['Quantity Ordered']\n",
        "products = [product for product,df in  all_data.groupby('Product')]\n",
        "fig,ax1 = plt.subplots()\n",
        "ax2 = ax1.twinx()\n",
        "\n",
        "ax1.bar(products,sold_prd.sum()['Sales'])\n",
        "ax1.set_xticklabels(products,rotation='vertical',size=8)\n",
        "ax1.set_xlabel('Product')\n",
        "ax1.set_ylabel('Number of Product\\'s Guantity')\n",
        "\n",
        "ax2.plot(products,sold_prd.sum()['Sales'],color='red')\n",
        "ax2.set_ylabel('Number of product sales')"
      ]
    },
    {
      "cell_type": "code",
      "execution_count": null,
      "id": "e85d7c15-9a85-4026-9567-88062361649e",
      "metadata": {
        "id": "e85d7c15-9a85-4026-9567-88062361649e"
      },
      "outputs": [],
      "source": []
    }
  ],
  "metadata": {
    "kernelspec": {
      "display_name": "Python 3",
      "language": "python",
      "name": "python3"
    },
    "language_info": {
      "codemirror_mode": {
        "name": "ipython",
        "version": 3
      },
      "file_extension": ".py",
      "mimetype": "text/x-python",
      "name": "python",
      "nbconvert_exporter": "python",
      "pygments_lexer": "ipython3",
      "version": "3.8.8"
    },
    "colab": {
      "provenance": [],
      "include_colab_link": true
    }
  },
  "nbformat": 4,
  "nbformat_minor": 5
}